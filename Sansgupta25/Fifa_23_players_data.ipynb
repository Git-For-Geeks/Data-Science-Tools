{
  "nbformat": 4,
  "nbformat_minor": 0,
  "metadata": {
    "colab": {
      "provenance": []
    },
    "kernelspec": {
      "name": "python3",
      "display_name": "Python 3"
    },
    "language_info": {
      "name": "python"
    }
  },
  "cells": [
    {
      "cell_type": "code",
      "execution_count": 22,
      "metadata": {
        "id": "YkMqFJ_9cO-n"
      },
      "outputs": [],
      "source": [
        "# 1. Import basic libraries\n",
        "import matplotlib.pyplot as plt\n",
        "from sklearn.metrics import mean_absolute_error\n",
        "from sklearn.model_selection import train_test_split\n",
        "\n",
        "#from category_encoders import OneHotEncoder\n",
        "from sklearn.pipeline import make_pipeline\n",
        "from sklearn.linear_model import LinearRegression, Ridge\n",
        "import pandas as pd"
      ]
    },
    {
      "cell_type": "code",
      "source": [
        "from google.colab import drive\n",
        "drive.mount('/content/drive')"
      ],
      "metadata": {
        "colab": {
          "base_uri": "https://localhost:8080/"
        },
        "id": "BUwnrZpQccrR",
        "outputId": "b1e94f53-cc83-4ce5-e736-a9870bc4ec91"
      },
      "execution_count": 2,
      "outputs": [
        {
          "output_type": "stream",
          "name": "stdout",
          "text": [
            "Mounted at /content/drive\n"
          ]
        }
      ]
    },
    {
      "cell_type": "code",
      "source": [
        "df = pd.read_csv('/content/drive/My Drive/Dataset/Fifa 23 Players Data.csv' , sep = ',')\n",
        "df"
      ],
      "metadata": {
        "colab": {
          "base_uri": "https://localhost:8080/",
          "height": 626
        },
        "id": "gsbKa8ebchQ_",
        "outputId": "cab5ce56-49ad-4335-fc91-d16066a4bcd2"
      },
      "execution_count": 23,
      "outputs": [
        {
          "output_type": "execute_result",
          "data": {
            "text/plain": [
              "             Known As           Full Name  Overall  Potential  Value(in Euro)  \\\n",
              "0            L. Messi        Lionel Messi       91         91        54000000   \n",
              "1          K. Benzema       Karim Benzema       91         91        64000000   \n",
              "2      R. Lewandowski  Robert Lewandowski       91         91        84000000   \n",
              "3        K. De Bruyne     Kevin De Bruyne       91         91       107500000   \n",
              "4           K. Mbappé       Kylian Mbappé       91         95       190500000   \n",
              "...               ...                 ...      ...        ...             ...   \n",
              "18534      D. Collins      Darren Collins       47         56          110000   \n",
              "18535    Yang Dejiang        Dejiang Yang       47         57           90000   \n",
              "18536       L. Mullan         Liam Mullan       47         67          130000   \n",
              "18537    D. McCallion    Daithí McCallion       47         61          100000   \n",
              "18538        N. Rabha         Nabin Rabha       47         50           60000   \n",
              "\n",
              "      Positions Played Best Position          Nationality  \\\n",
              "0                   RW           CAM            Argentina   \n",
              "1                CF,ST            CF               France   \n",
              "2                   ST            ST               Poland   \n",
              "3               CM,CAM            CM              Belgium   \n",
              "4                ST,LW            ST               France   \n",
              "...                ...           ...                  ...   \n",
              "18534            ST,RM           CAM  Republic of Ireland   \n",
              "18535              CDM           CDM             China PR   \n",
              "18536               CM            RM     Northern Ireland   \n",
              "18537               CB            CB  Republic of Ireland   \n",
              "18538               LB            LB                India   \n",
              "\n",
              "                                             Image Link  Age  ...  LM Rating  \\\n",
              "0      https://cdn.sofifa.net/players/158/023/23_60.png   35  ...         91   \n",
              "1      https://cdn.sofifa.net/players/165/153/23_60.png   34  ...         89   \n",
              "2      https://cdn.sofifa.net/players/188/545/23_60.png   33  ...         86   \n",
              "3      https://cdn.sofifa.net/players/192/985/23_60.png   31  ...         91   \n",
              "4      https://cdn.sofifa.net/players/231/747/23_60.png   23  ...         92   \n",
              "...                                                 ...  ...  ...        ...   \n",
              "18534  https://cdn.sofifa.net/players/243/725/23_60.png   21  ...         50   \n",
              "18535  https://cdn.sofifa.net/players/261/933/23_60.png   17  ...         45   \n",
              "18536  https://cdn.sofifa.net/players/267/823/23_60.png   18  ...         52   \n",
              "18537  https://cdn.sofifa.net/players/267/824/23_60.png   17  ...         33   \n",
              "18538  https://cdn.sofifa.net/players/261/424/23_60.png   25  ...         44   \n",
              "\n",
              "       CM Rating  RM Rating  LWB Rating CDM Rating  RWB Rating  LB Rating  \\\n",
              "0             88         91          67         66          67         62   \n",
              "1             84         89          67         67          67         63   \n",
              "2             83         86          67         69          67         64   \n",
              "3             91         91          82         82          82         78   \n",
              "4             84         92          70         66          70         66   \n",
              "...          ...        ...         ...        ...         ...        ...   \n",
              "18534         44         50          41         38          41         40   \n",
              "18535         45         45          47         48          47         49   \n",
              "18536         49         52          46         44          46         46   \n",
              "18537         33         33          44         42          44         47   \n",
              "18538         40         44          46         43          46         47   \n",
              "\n",
              "      CB Rating RB Rating GK Rating  \n",
              "0            53        62        22  \n",
              "1            58        63        21  \n",
              "2            63        64        22  \n",
              "3            72        78        24  \n",
              "4            57        66        21  \n",
              "...         ...       ...       ...  \n",
              "18534        36        40        15  \n",
              "18535        49        49        15  \n",
              "18536        42        46        17  \n",
              "18537        49        47        15  \n",
              "18538        47        47        19  \n",
              "\n",
              "[18539 rows x 89 columns]"
            ],
            "text/html": [
              "\n",
              "  <div id=\"df-6225e61e-6146-46ee-aa20-e755fc9ee94d\">\n",
              "    <div class=\"colab-df-container\">\n",
              "      <div>\n",
              "<style scoped>\n",
              "    .dataframe tbody tr th:only-of-type {\n",
              "        vertical-align: middle;\n",
              "    }\n",
              "\n",
              "    .dataframe tbody tr th {\n",
              "        vertical-align: top;\n",
              "    }\n",
              "\n",
              "    .dataframe thead th {\n",
              "        text-align: right;\n",
              "    }\n",
              "</style>\n",
              "<table border=\"1\" class=\"dataframe\">\n",
              "  <thead>\n",
              "    <tr style=\"text-align: right;\">\n",
              "      <th></th>\n",
              "      <th>Known As</th>\n",
              "      <th>Full Name</th>\n",
              "      <th>Overall</th>\n",
              "      <th>Potential</th>\n",
              "      <th>Value(in Euro)</th>\n",
              "      <th>Positions Played</th>\n",
              "      <th>Best Position</th>\n",
              "      <th>Nationality</th>\n",
              "      <th>Image Link</th>\n",
              "      <th>Age</th>\n",
              "      <th>...</th>\n",
              "      <th>LM Rating</th>\n",
              "      <th>CM Rating</th>\n",
              "      <th>RM Rating</th>\n",
              "      <th>LWB Rating</th>\n",
              "      <th>CDM Rating</th>\n",
              "      <th>RWB Rating</th>\n",
              "      <th>LB Rating</th>\n",
              "      <th>CB Rating</th>\n",
              "      <th>RB Rating</th>\n",
              "      <th>GK Rating</th>\n",
              "    </tr>\n",
              "  </thead>\n",
              "  <tbody>\n",
              "    <tr>\n",
              "      <th>0</th>\n",
              "      <td>L. Messi</td>\n",
              "      <td>Lionel Messi</td>\n",
              "      <td>91</td>\n",
              "      <td>91</td>\n",
              "      <td>54000000</td>\n",
              "      <td>RW</td>\n",
              "      <td>CAM</td>\n",
              "      <td>Argentina</td>\n",
              "      <td>https://cdn.sofifa.net/players/158/023/23_60.png</td>\n",
              "      <td>35</td>\n",
              "      <td>...</td>\n",
              "      <td>91</td>\n",
              "      <td>88</td>\n",
              "      <td>91</td>\n",
              "      <td>67</td>\n",
              "      <td>66</td>\n",
              "      <td>67</td>\n",
              "      <td>62</td>\n",
              "      <td>53</td>\n",
              "      <td>62</td>\n",
              "      <td>22</td>\n",
              "    </tr>\n",
              "    <tr>\n",
              "      <th>1</th>\n",
              "      <td>K. Benzema</td>\n",
              "      <td>Karim Benzema</td>\n",
              "      <td>91</td>\n",
              "      <td>91</td>\n",
              "      <td>64000000</td>\n",
              "      <td>CF,ST</td>\n",
              "      <td>CF</td>\n",
              "      <td>France</td>\n",
              "      <td>https://cdn.sofifa.net/players/165/153/23_60.png</td>\n",
              "      <td>34</td>\n",
              "      <td>...</td>\n",
              "      <td>89</td>\n",
              "      <td>84</td>\n",
              "      <td>89</td>\n",
              "      <td>67</td>\n",
              "      <td>67</td>\n",
              "      <td>67</td>\n",
              "      <td>63</td>\n",
              "      <td>58</td>\n",
              "      <td>63</td>\n",
              "      <td>21</td>\n",
              "    </tr>\n",
              "    <tr>\n",
              "      <th>2</th>\n",
              "      <td>R. Lewandowski</td>\n",
              "      <td>Robert Lewandowski</td>\n",
              "      <td>91</td>\n",
              "      <td>91</td>\n",
              "      <td>84000000</td>\n",
              "      <td>ST</td>\n",
              "      <td>ST</td>\n",
              "      <td>Poland</td>\n",
              "      <td>https://cdn.sofifa.net/players/188/545/23_60.png</td>\n",
              "      <td>33</td>\n",
              "      <td>...</td>\n",
              "      <td>86</td>\n",
              "      <td>83</td>\n",
              "      <td>86</td>\n",
              "      <td>67</td>\n",
              "      <td>69</td>\n",
              "      <td>67</td>\n",
              "      <td>64</td>\n",
              "      <td>63</td>\n",
              "      <td>64</td>\n",
              "      <td>22</td>\n",
              "    </tr>\n",
              "    <tr>\n",
              "      <th>3</th>\n",
              "      <td>K. De Bruyne</td>\n",
              "      <td>Kevin De Bruyne</td>\n",
              "      <td>91</td>\n",
              "      <td>91</td>\n",
              "      <td>107500000</td>\n",
              "      <td>CM,CAM</td>\n",
              "      <td>CM</td>\n",
              "      <td>Belgium</td>\n",
              "      <td>https://cdn.sofifa.net/players/192/985/23_60.png</td>\n",
              "      <td>31</td>\n",
              "      <td>...</td>\n",
              "      <td>91</td>\n",
              "      <td>91</td>\n",
              "      <td>91</td>\n",
              "      <td>82</td>\n",
              "      <td>82</td>\n",
              "      <td>82</td>\n",
              "      <td>78</td>\n",
              "      <td>72</td>\n",
              "      <td>78</td>\n",
              "      <td>24</td>\n",
              "    </tr>\n",
              "    <tr>\n",
              "      <th>4</th>\n",
              "      <td>K. Mbappé</td>\n",
              "      <td>Kylian Mbappé</td>\n",
              "      <td>91</td>\n",
              "      <td>95</td>\n",
              "      <td>190500000</td>\n",
              "      <td>ST,LW</td>\n",
              "      <td>ST</td>\n",
              "      <td>France</td>\n",
              "      <td>https://cdn.sofifa.net/players/231/747/23_60.png</td>\n",
              "      <td>23</td>\n",
              "      <td>...</td>\n",
              "      <td>92</td>\n",
              "      <td>84</td>\n",
              "      <td>92</td>\n",
              "      <td>70</td>\n",
              "      <td>66</td>\n",
              "      <td>70</td>\n",
              "      <td>66</td>\n",
              "      <td>57</td>\n",
              "      <td>66</td>\n",
              "      <td>21</td>\n",
              "    </tr>\n",
              "    <tr>\n",
              "      <th>...</th>\n",
              "      <td>...</td>\n",
              "      <td>...</td>\n",
              "      <td>...</td>\n",
              "      <td>...</td>\n",
              "      <td>...</td>\n",
              "      <td>...</td>\n",
              "      <td>...</td>\n",
              "      <td>...</td>\n",
              "      <td>...</td>\n",
              "      <td>...</td>\n",
              "      <td>...</td>\n",
              "      <td>...</td>\n",
              "      <td>...</td>\n",
              "      <td>...</td>\n",
              "      <td>...</td>\n",
              "      <td>...</td>\n",
              "      <td>...</td>\n",
              "      <td>...</td>\n",
              "      <td>...</td>\n",
              "      <td>...</td>\n",
              "      <td>...</td>\n",
              "    </tr>\n",
              "    <tr>\n",
              "      <th>18534</th>\n",
              "      <td>D. Collins</td>\n",
              "      <td>Darren Collins</td>\n",
              "      <td>47</td>\n",
              "      <td>56</td>\n",
              "      <td>110000</td>\n",
              "      <td>ST,RM</td>\n",
              "      <td>CAM</td>\n",
              "      <td>Republic of Ireland</td>\n",
              "      <td>https://cdn.sofifa.net/players/243/725/23_60.png</td>\n",
              "      <td>21</td>\n",
              "      <td>...</td>\n",
              "      <td>50</td>\n",
              "      <td>44</td>\n",
              "      <td>50</td>\n",
              "      <td>41</td>\n",
              "      <td>38</td>\n",
              "      <td>41</td>\n",
              "      <td>40</td>\n",
              "      <td>36</td>\n",
              "      <td>40</td>\n",
              "      <td>15</td>\n",
              "    </tr>\n",
              "    <tr>\n",
              "      <th>18535</th>\n",
              "      <td>Yang Dejiang</td>\n",
              "      <td>Dejiang Yang</td>\n",
              "      <td>47</td>\n",
              "      <td>57</td>\n",
              "      <td>90000</td>\n",
              "      <td>CDM</td>\n",
              "      <td>CDM</td>\n",
              "      <td>China PR</td>\n",
              "      <td>https://cdn.sofifa.net/players/261/933/23_60.png</td>\n",
              "      <td>17</td>\n",
              "      <td>...</td>\n",
              "      <td>45</td>\n",
              "      <td>45</td>\n",
              "      <td>45</td>\n",
              "      <td>47</td>\n",
              "      <td>48</td>\n",
              "      <td>47</td>\n",
              "      <td>49</td>\n",
              "      <td>49</td>\n",
              "      <td>49</td>\n",
              "      <td>15</td>\n",
              "    </tr>\n",
              "    <tr>\n",
              "      <th>18536</th>\n",
              "      <td>L. Mullan</td>\n",
              "      <td>Liam Mullan</td>\n",
              "      <td>47</td>\n",
              "      <td>67</td>\n",
              "      <td>130000</td>\n",
              "      <td>CM</td>\n",
              "      <td>RM</td>\n",
              "      <td>Northern Ireland</td>\n",
              "      <td>https://cdn.sofifa.net/players/267/823/23_60.png</td>\n",
              "      <td>18</td>\n",
              "      <td>...</td>\n",
              "      <td>52</td>\n",
              "      <td>49</td>\n",
              "      <td>52</td>\n",
              "      <td>46</td>\n",
              "      <td>44</td>\n",
              "      <td>46</td>\n",
              "      <td>46</td>\n",
              "      <td>42</td>\n",
              "      <td>46</td>\n",
              "      <td>17</td>\n",
              "    </tr>\n",
              "    <tr>\n",
              "      <th>18537</th>\n",
              "      <td>D. McCallion</td>\n",
              "      <td>Daithí McCallion</td>\n",
              "      <td>47</td>\n",
              "      <td>61</td>\n",
              "      <td>100000</td>\n",
              "      <td>CB</td>\n",
              "      <td>CB</td>\n",
              "      <td>Republic of Ireland</td>\n",
              "      <td>https://cdn.sofifa.net/players/267/824/23_60.png</td>\n",
              "      <td>17</td>\n",
              "      <td>...</td>\n",
              "      <td>33</td>\n",
              "      <td>33</td>\n",
              "      <td>33</td>\n",
              "      <td>44</td>\n",
              "      <td>42</td>\n",
              "      <td>44</td>\n",
              "      <td>47</td>\n",
              "      <td>49</td>\n",
              "      <td>47</td>\n",
              "      <td>15</td>\n",
              "    </tr>\n",
              "    <tr>\n",
              "      <th>18538</th>\n",
              "      <td>N. Rabha</td>\n",
              "      <td>Nabin Rabha</td>\n",
              "      <td>47</td>\n",
              "      <td>50</td>\n",
              "      <td>60000</td>\n",
              "      <td>LB</td>\n",
              "      <td>LB</td>\n",
              "      <td>India</td>\n",
              "      <td>https://cdn.sofifa.net/players/261/424/23_60.png</td>\n",
              "      <td>25</td>\n",
              "      <td>...</td>\n",
              "      <td>44</td>\n",
              "      <td>40</td>\n",
              "      <td>44</td>\n",
              "      <td>46</td>\n",
              "      <td>43</td>\n",
              "      <td>46</td>\n",
              "      <td>47</td>\n",
              "      <td>47</td>\n",
              "      <td>47</td>\n",
              "      <td>19</td>\n",
              "    </tr>\n",
              "  </tbody>\n",
              "</table>\n",
              "<p>18539 rows × 89 columns</p>\n",
              "</div>\n",
              "      <button class=\"colab-df-convert\" onclick=\"convertToInteractive('df-6225e61e-6146-46ee-aa20-e755fc9ee94d')\"\n",
              "              title=\"Convert this dataframe to an interactive table.\"\n",
              "              style=\"display:none;\">\n",
              "        \n",
              "  <svg xmlns=\"http://www.w3.org/2000/svg\" height=\"24px\"viewBox=\"0 0 24 24\"\n",
              "       width=\"24px\">\n",
              "    <path d=\"M0 0h24v24H0V0z\" fill=\"none\"/>\n",
              "    <path d=\"M18.56 5.44l.94 2.06.94-2.06 2.06-.94-2.06-.94-.94-2.06-.94 2.06-2.06.94zm-11 1L8.5 8.5l.94-2.06 2.06-.94-2.06-.94L8.5 2.5l-.94 2.06-2.06.94zm10 10l.94 2.06.94-2.06 2.06-.94-2.06-.94-.94-2.06-.94 2.06-2.06.94z\"/><path d=\"M17.41 7.96l-1.37-1.37c-.4-.4-.92-.59-1.43-.59-.52 0-1.04.2-1.43.59L10.3 9.45l-7.72 7.72c-.78.78-.78 2.05 0 2.83L4 21.41c.39.39.9.59 1.41.59.51 0 1.02-.2 1.41-.59l7.78-7.78 2.81-2.81c.8-.78.8-2.07 0-2.86zM5.41 20L4 18.59l7.72-7.72 1.47 1.35L5.41 20z\"/>\n",
              "  </svg>\n",
              "      </button>\n",
              "      \n",
              "  <style>\n",
              "    .colab-df-container {\n",
              "      display:flex;\n",
              "      flex-wrap:wrap;\n",
              "      gap: 12px;\n",
              "    }\n",
              "\n",
              "    .colab-df-convert {\n",
              "      background-color: #E8F0FE;\n",
              "      border: none;\n",
              "      border-radius: 50%;\n",
              "      cursor: pointer;\n",
              "      display: none;\n",
              "      fill: #1967D2;\n",
              "      height: 32px;\n",
              "      padding: 0 0 0 0;\n",
              "      width: 32px;\n",
              "    }\n",
              "\n",
              "    .colab-df-convert:hover {\n",
              "      background-color: #E2EBFA;\n",
              "      box-shadow: 0px 1px 2px rgba(60, 64, 67, 0.3), 0px 1px 3px 1px rgba(60, 64, 67, 0.15);\n",
              "      fill: #174EA6;\n",
              "    }\n",
              "\n",
              "    [theme=dark] .colab-df-convert {\n",
              "      background-color: #3B4455;\n",
              "      fill: #D2E3FC;\n",
              "    }\n",
              "\n",
              "    [theme=dark] .colab-df-convert:hover {\n",
              "      background-color: #434B5C;\n",
              "      box-shadow: 0px 1px 3px 1px rgba(0, 0, 0, 0.15);\n",
              "      filter: drop-shadow(0px 1px 2px rgba(0, 0, 0, 0.3));\n",
              "      fill: #FFFFFF;\n",
              "    }\n",
              "  </style>\n",
              "\n",
              "      <script>\n",
              "        const buttonEl =\n",
              "          document.querySelector('#df-6225e61e-6146-46ee-aa20-e755fc9ee94d button.colab-df-convert');\n",
              "        buttonEl.style.display =\n",
              "          google.colab.kernel.accessAllowed ? 'block' : 'none';\n",
              "\n",
              "        async function convertToInteractive(key) {\n",
              "          const element = document.querySelector('#df-6225e61e-6146-46ee-aa20-e755fc9ee94d');\n",
              "          const dataTable =\n",
              "            await google.colab.kernel.invokeFunction('convertToInteractive',\n",
              "                                                     [key], {});\n",
              "          if (!dataTable) return;\n",
              "\n",
              "          const docLinkHtml = 'Like what you see? Visit the ' +\n",
              "            '<a target=\"_blank\" href=https://colab.research.google.com/notebooks/data_table.ipynb>data table notebook</a>'\n",
              "            + ' to learn more about interactive tables.';\n",
              "          element.innerHTML = '';\n",
              "          dataTable['output_type'] = 'display_data';\n",
              "          await google.colab.output.renderOutput(dataTable, element);\n",
              "          const docLink = document.createElement('div');\n",
              "          docLink.innerHTML = docLinkHtml;\n",
              "          element.appendChild(docLink);\n",
              "        }\n",
              "      </script>\n",
              "    </div>\n",
              "  </div>\n",
              "  "
            ]
          },
          "metadata": {},
          "execution_count": 23
        }
      ]
    },
    {
      "cell_type": "markdown",
      "source": [
        "**Data Exploration**"
      ],
      "metadata": {
        "id": "t15I8EU2fWcg"
      }
    },
    {
      "cell_type": "code",
      "source": [
        "df.info()"
      ],
      "metadata": {
        "colab": {
          "base_uri": "https://localhost:8080/"
        },
        "id": "ILN-IWSwduqg",
        "outputId": "e6533133-8edd-4370-bb68-40328ad9d73b"
      },
      "execution_count": 24,
      "outputs": [
        {
          "output_type": "stream",
          "name": "stdout",
          "text": [
            "<class 'pandas.core.frame.DataFrame'>\n",
            "RangeIndex: 18539 entries, 0 to 18538\n",
            "Data columns (total 89 columns):\n",
            " #   Column                       Non-Null Count  Dtype \n",
            "---  ------                       --------------  ----- \n",
            " 0   Known As                     18539 non-null  object\n",
            " 1   Full Name                    18539 non-null  object\n",
            " 2   Overall                      18539 non-null  int64 \n",
            " 3   Potential                    18539 non-null  int64 \n",
            " 4   Value(in Euro)               18539 non-null  int64 \n",
            " 5   Positions Played             18539 non-null  object\n",
            " 6   Best Position                18539 non-null  object\n",
            " 7   Nationality                  18539 non-null  object\n",
            " 8   Image Link                   18539 non-null  object\n",
            " 9   Age                          18539 non-null  int64 \n",
            " 10  Height(in cm)                18539 non-null  int64 \n",
            " 11  Weight(in kg)                18539 non-null  int64 \n",
            " 12  TotalStats                   18539 non-null  int64 \n",
            " 13  BaseStats                    18539 non-null  int64 \n",
            " 14  Club Name                    18539 non-null  object\n",
            " 15  Wage(in Euro)                18539 non-null  int64 \n",
            " 16  Release Clause               18539 non-null  int64 \n",
            " 17  Club Position                18539 non-null  object\n",
            " 18  Contract Until               18539 non-null  object\n",
            " 19  Club Jersey Number           18539 non-null  object\n",
            " 20  Joined On                    18539 non-null  int64 \n",
            " 21  On Loan                      18539 non-null  object\n",
            " 22  Preferred Foot               18539 non-null  object\n",
            " 23  Weak Foot Rating             18539 non-null  int64 \n",
            " 24  Skill Moves                  18539 non-null  int64 \n",
            " 25  International Reputation     18539 non-null  int64 \n",
            " 26  National Team Name           18539 non-null  object\n",
            " 27  National Team Image Link     18539 non-null  object\n",
            " 28  National Team Position       18539 non-null  object\n",
            " 29  National Team Jersey Number  18539 non-null  object\n",
            " 30  Attacking Work Rate          18539 non-null  object\n",
            " 31  Defensive Work Rate          18539 non-null  object\n",
            " 32  Pace Total                   18539 non-null  int64 \n",
            " 33  Shooting Total               18539 non-null  int64 \n",
            " 34  Passing Total                18539 non-null  int64 \n",
            " 35  Dribbling Total              18539 non-null  int64 \n",
            " 36  Defending Total              18539 non-null  int64 \n",
            " 37  Physicality Total            18539 non-null  int64 \n",
            " 38  Crossing                     18539 non-null  int64 \n",
            " 39  Finishing                    18539 non-null  int64 \n",
            " 40  Heading Accuracy             18539 non-null  int64 \n",
            " 41  Short Passing                18539 non-null  int64 \n",
            " 42  Volleys                      18539 non-null  int64 \n",
            " 43  Dribbling                    18539 non-null  int64 \n",
            " 44  Curve                        18539 non-null  int64 \n",
            " 45  Freekick Accuracy            18539 non-null  int64 \n",
            " 46  LongPassing                  18539 non-null  int64 \n",
            " 47  BallControl                  18539 non-null  int64 \n",
            " 48  Acceleration                 18539 non-null  int64 \n",
            " 49  Sprint Speed                 18539 non-null  int64 \n",
            " 50  Agility                      18539 non-null  int64 \n",
            " 51  Reactions                    18539 non-null  int64 \n",
            " 52  Balance                      18539 non-null  int64 \n",
            " 53  Shot Power                   18539 non-null  int64 \n",
            " 54  Jumping                      18539 non-null  int64 \n",
            " 55  Stamina                      18539 non-null  int64 \n",
            " 56  Strength                     18539 non-null  int64 \n",
            " 57  Long Shots                   18539 non-null  int64 \n",
            " 58  Aggression                   18539 non-null  int64 \n",
            " 59  Interceptions                18539 non-null  int64 \n",
            " 60  Positioning                  18539 non-null  int64 \n",
            " 61  Vision                       18539 non-null  int64 \n",
            " 62  Penalties                    18539 non-null  int64 \n",
            " 63  Composure                    18539 non-null  int64 \n",
            " 64  Marking                      18539 non-null  int64 \n",
            " 65  Standing Tackle              18539 non-null  int64 \n",
            " 66  Sliding Tackle               18539 non-null  int64 \n",
            " 67  Goalkeeper Diving            18539 non-null  int64 \n",
            " 68  Goalkeeper Handling          18539 non-null  int64 \n",
            " 69   GoalkeeperKicking           18539 non-null  int64 \n",
            " 70  Goalkeeper Positioning       18539 non-null  int64 \n",
            " 71  Goalkeeper Reflexes          18539 non-null  int64 \n",
            " 72  ST Rating                    18539 non-null  int64 \n",
            " 73  LW Rating                    18539 non-null  int64 \n",
            " 74  LF Rating                    18539 non-null  int64 \n",
            " 75  CF Rating                    18539 non-null  int64 \n",
            " 76  RF Rating                    18539 non-null  int64 \n",
            " 77  RW Rating                    18539 non-null  int64 \n",
            " 78  CAM Rating                   18539 non-null  int64 \n",
            " 79  LM Rating                    18539 non-null  int64 \n",
            " 80  CM Rating                    18539 non-null  int64 \n",
            " 81  RM Rating                    18539 non-null  int64 \n",
            " 82  LWB Rating                   18539 non-null  int64 \n",
            " 83  CDM Rating                   18539 non-null  int64 \n",
            " 84  RWB Rating                   18539 non-null  int64 \n",
            " 85  LB Rating                    18539 non-null  int64 \n",
            " 86  CB Rating                    18539 non-null  int64 \n",
            " 87  RB Rating                    18539 non-null  int64 \n",
            " 88  GK Rating                    18539 non-null  int64 \n",
            "dtypes: int64(71), object(18)\n",
            "memory usage: 12.6+ MB\n"
          ]
        }
      ]
    },
    {
      "cell_type": "code",
      "source": [
        "# 2. Describe overall\n",
        "df.describe().round(decimals=0)"
      ],
      "metadata": {
        "colab": {
          "base_uri": "https://localhost:8080/",
          "height": 411
        },
        "id": "XyAooJDGd6zy",
        "outputId": "1ec1b726-b14b-4a5c-bfa9-734a509da895"
      },
      "execution_count": 25,
      "outputs": [
        {
          "output_type": "execute_result",
          "data": {
            "text/plain": [
              "       Overall  Potential  Value(in Euro)      Age  Height(in cm)  \\\n",
              "count  18539.0    18539.0         18539.0  18539.0        18539.0   \n",
              "mean      66.0       71.0       2875461.0     25.0          182.0   \n",
              "std        7.0        6.0       7635129.0      5.0            7.0   \n",
              "min       47.0       48.0             0.0     16.0          155.0   \n",
              "25%       62.0       67.0        475000.0     21.0          177.0   \n",
              "50%       66.0       71.0       1000000.0     25.0          182.0   \n",
              "75%       70.0       75.0       2000000.0     29.0          186.0   \n",
              "max       91.0       95.0     190500000.0     44.0          206.0   \n",
              "\n",
              "       Weight(in kg)  TotalStats  BaseStats  Wage(in Euro)  Release Clause  \\\n",
              "count        18539.0     18539.0    18539.0        18539.0         18539.0   \n",
              "mean            75.0      1602.0      358.0         8825.0       5081688.0   \n",
              "std              7.0       273.0       40.0        19461.0      14672035.0   \n",
              "min             49.0       759.0      224.0            0.0             0.0   \n",
              "25%             70.0      1470.0      331.0         1000.0        665000.0   \n",
              "50%             75.0      1640.0      358.0         3000.0       1500000.0   \n",
              "75%             80.0      1786.0      385.0         8000.0       3400000.0   \n",
              "max            105.0      2312.0      502.0       450000.0     366700000.0   \n",
              "\n",
              "       ...  LM Rating  CM Rating  RM Rating  LWB Rating  CDM Rating  \\\n",
              "count  ...    18539.0    18539.0    18539.0     18539.0     18539.0   \n",
              "mean   ...       58.0       57.0       58.0        56.0        56.0   \n",
              "std    ...       14.0       13.0       14.0        14.0        14.0   \n",
              "min    ...       18.0       18.0       18.0        17.0        19.0   \n",
              "25%    ...       54.0       53.0       54.0        51.0        48.0   \n",
              "50%    ...       62.0       60.0       62.0        59.0        59.0   \n",
              "75%    ...       67.0       66.0       67.0        66.0        66.0   \n",
              "max    ...       92.0       91.0       92.0        88.0        89.0   \n",
              "\n",
              "       RWB Rating  LB Rating  CB Rating  RB Rating  GK Rating  \n",
              "count     18539.0    18539.0    18539.0    18539.0    18539.0  \n",
              "mean         56.0       56.0       55.0       56.0       23.0  \n",
              "std          14.0       14.0       15.0       14.0       15.0  \n",
              "min          17.0       17.0       18.0       17.0       10.0  \n",
              "25%          51.0       49.0       45.0       49.0       17.0  \n",
              "50%          59.0       59.0       58.0       59.0       18.0  \n",
              "75%          66.0       65.0       66.0       65.0       20.0  \n",
              "max          88.0       87.0       90.0       87.0       90.0  \n",
              "\n",
              "[8 rows x 71 columns]"
            ],
            "text/html": [
              "\n",
              "  <div id=\"df-2497b6d5-674d-420f-8338-716e729e76d8\">\n",
              "    <div class=\"colab-df-container\">\n",
              "      <div>\n",
              "<style scoped>\n",
              "    .dataframe tbody tr th:only-of-type {\n",
              "        vertical-align: middle;\n",
              "    }\n",
              "\n",
              "    .dataframe tbody tr th {\n",
              "        vertical-align: top;\n",
              "    }\n",
              "\n",
              "    .dataframe thead th {\n",
              "        text-align: right;\n",
              "    }\n",
              "</style>\n",
              "<table border=\"1\" class=\"dataframe\">\n",
              "  <thead>\n",
              "    <tr style=\"text-align: right;\">\n",
              "      <th></th>\n",
              "      <th>Overall</th>\n",
              "      <th>Potential</th>\n",
              "      <th>Value(in Euro)</th>\n",
              "      <th>Age</th>\n",
              "      <th>Height(in cm)</th>\n",
              "      <th>Weight(in kg)</th>\n",
              "      <th>TotalStats</th>\n",
              "      <th>BaseStats</th>\n",
              "      <th>Wage(in Euro)</th>\n",
              "      <th>Release Clause</th>\n",
              "      <th>...</th>\n",
              "      <th>LM Rating</th>\n",
              "      <th>CM Rating</th>\n",
              "      <th>RM Rating</th>\n",
              "      <th>LWB Rating</th>\n",
              "      <th>CDM Rating</th>\n",
              "      <th>RWB Rating</th>\n",
              "      <th>LB Rating</th>\n",
              "      <th>CB Rating</th>\n",
              "      <th>RB Rating</th>\n",
              "      <th>GK Rating</th>\n",
              "    </tr>\n",
              "  </thead>\n",
              "  <tbody>\n",
              "    <tr>\n",
              "      <th>count</th>\n",
              "      <td>18539.0</td>\n",
              "      <td>18539.0</td>\n",
              "      <td>18539.0</td>\n",
              "      <td>18539.0</td>\n",
              "      <td>18539.0</td>\n",
              "      <td>18539.0</td>\n",
              "      <td>18539.0</td>\n",
              "      <td>18539.0</td>\n",
              "      <td>18539.0</td>\n",
              "      <td>18539.0</td>\n",
              "      <td>...</td>\n",
              "      <td>18539.0</td>\n",
              "      <td>18539.0</td>\n",
              "      <td>18539.0</td>\n",
              "      <td>18539.0</td>\n",
              "      <td>18539.0</td>\n",
              "      <td>18539.0</td>\n",
              "      <td>18539.0</td>\n",
              "      <td>18539.0</td>\n",
              "      <td>18539.0</td>\n",
              "      <td>18539.0</td>\n",
              "    </tr>\n",
              "    <tr>\n",
              "      <th>mean</th>\n",
              "      <td>66.0</td>\n",
              "      <td>71.0</td>\n",
              "      <td>2875461.0</td>\n",
              "      <td>25.0</td>\n",
              "      <td>182.0</td>\n",
              "      <td>75.0</td>\n",
              "      <td>1602.0</td>\n",
              "      <td>358.0</td>\n",
              "      <td>8825.0</td>\n",
              "      <td>5081688.0</td>\n",
              "      <td>...</td>\n",
              "      <td>58.0</td>\n",
              "      <td>57.0</td>\n",
              "      <td>58.0</td>\n",
              "      <td>56.0</td>\n",
              "      <td>56.0</td>\n",
              "      <td>56.0</td>\n",
              "      <td>56.0</td>\n",
              "      <td>55.0</td>\n",
              "      <td>56.0</td>\n",
              "      <td>23.0</td>\n",
              "    </tr>\n",
              "    <tr>\n",
              "      <th>std</th>\n",
              "      <td>7.0</td>\n",
              "      <td>6.0</td>\n",
              "      <td>7635129.0</td>\n",
              "      <td>5.0</td>\n",
              "      <td>7.0</td>\n",
              "      <td>7.0</td>\n",
              "      <td>273.0</td>\n",
              "      <td>40.0</td>\n",
              "      <td>19461.0</td>\n",
              "      <td>14672035.0</td>\n",
              "      <td>...</td>\n",
              "      <td>14.0</td>\n",
              "      <td>13.0</td>\n",
              "      <td>14.0</td>\n",
              "      <td>14.0</td>\n",
              "      <td>14.0</td>\n",
              "      <td>14.0</td>\n",
              "      <td>14.0</td>\n",
              "      <td>15.0</td>\n",
              "      <td>14.0</td>\n",
              "      <td>15.0</td>\n",
              "    </tr>\n",
              "    <tr>\n",
              "      <th>min</th>\n",
              "      <td>47.0</td>\n",
              "      <td>48.0</td>\n",
              "      <td>0.0</td>\n",
              "      <td>16.0</td>\n",
              "      <td>155.0</td>\n",
              "      <td>49.0</td>\n",
              "      <td>759.0</td>\n",
              "      <td>224.0</td>\n",
              "      <td>0.0</td>\n",
              "      <td>0.0</td>\n",
              "      <td>...</td>\n",
              "      <td>18.0</td>\n",
              "      <td>18.0</td>\n",
              "      <td>18.0</td>\n",
              "      <td>17.0</td>\n",
              "      <td>19.0</td>\n",
              "      <td>17.0</td>\n",
              "      <td>17.0</td>\n",
              "      <td>18.0</td>\n",
              "      <td>17.0</td>\n",
              "      <td>10.0</td>\n",
              "    </tr>\n",
              "    <tr>\n",
              "      <th>25%</th>\n",
              "      <td>62.0</td>\n",
              "      <td>67.0</td>\n",
              "      <td>475000.0</td>\n",
              "      <td>21.0</td>\n",
              "      <td>177.0</td>\n",
              "      <td>70.0</td>\n",
              "      <td>1470.0</td>\n",
              "      <td>331.0</td>\n",
              "      <td>1000.0</td>\n",
              "      <td>665000.0</td>\n",
              "      <td>...</td>\n",
              "      <td>54.0</td>\n",
              "      <td>53.0</td>\n",
              "      <td>54.0</td>\n",
              "      <td>51.0</td>\n",
              "      <td>48.0</td>\n",
              "      <td>51.0</td>\n",
              "      <td>49.0</td>\n",
              "      <td>45.0</td>\n",
              "      <td>49.0</td>\n",
              "      <td>17.0</td>\n",
              "    </tr>\n",
              "    <tr>\n",
              "      <th>50%</th>\n",
              "      <td>66.0</td>\n",
              "      <td>71.0</td>\n",
              "      <td>1000000.0</td>\n",
              "      <td>25.0</td>\n",
              "      <td>182.0</td>\n",
              "      <td>75.0</td>\n",
              "      <td>1640.0</td>\n",
              "      <td>358.0</td>\n",
              "      <td>3000.0</td>\n",
              "      <td>1500000.0</td>\n",
              "      <td>...</td>\n",
              "      <td>62.0</td>\n",
              "      <td>60.0</td>\n",
              "      <td>62.0</td>\n",
              "      <td>59.0</td>\n",
              "      <td>59.0</td>\n",
              "      <td>59.0</td>\n",
              "      <td>59.0</td>\n",
              "      <td>58.0</td>\n",
              "      <td>59.0</td>\n",
              "      <td>18.0</td>\n",
              "    </tr>\n",
              "    <tr>\n",
              "      <th>75%</th>\n",
              "      <td>70.0</td>\n",
              "      <td>75.0</td>\n",
              "      <td>2000000.0</td>\n",
              "      <td>29.0</td>\n",
              "      <td>186.0</td>\n",
              "      <td>80.0</td>\n",
              "      <td>1786.0</td>\n",
              "      <td>385.0</td>\n",
              "      <td>8000.0</td>\n",
              "      <td>3400000.0</td>\n",
              "      <td>...</td>\n",
              "      <td>67.0</td>\n",
              "      <td>66.0</td>\n",
              "      <td>67.0</td>\n",
              "      <td>66.0</td>\n",
              "      <td>66.0</td>\n",
              "      <td>66.0</td>\n",
              "      <td>65.0</td>\n",
              "      <td>66.0</td>\n",
              "      <td>65.0</td>\n",
              "      <td>20.0</td>\n",
              "    </tr>\n",
              "    <tr>\n",
              "      <th>max</th>\n",
              "      <td>91.0</td>\n",
              "      <td>95.0</td>\n",
              "      <td>190500000.0</td>\n",
              "      <td>44.0</td>\n",
              "      <td>206.0</td>\n",
              "      <td>105.0</td>\n",
              "      <td>2312.0</td>\n",
              "      <td>502.0</td>\n",
              "      <td>450000.0</td>\n",
              "      <td>366700000.0</td>\n",
              "      <td>...</td>\n",
              "      <td>92.0</td>\n",
              "      <td>91.0</td>\n",
              "      <td>92.0</td>\n",
              "      <td>88.0</td>\n",
              "      <td>89.0</td>\n",
              "      <td>88.0</td>\n",
              "      <td>87.0</td>\n",
              "      <td>90.0</td>\n",
              "      <td>87.0</td>\n",
              "      <td>90.0</td>\n",
              "    </tr>\n",
              "  </tbody>\n",
              "</table>\n",
              "<p>8 rows × 71 columns</p>\n",
              "</div>\n",
              "      <button class=\"colab-df-convert\" onclick=\"convertToInteractive('df-2497b6d5-674d-420f-8338-716e729e76d8')\"\n",
              "              title=\"Convert this dataframe to an interactive table.\"\n",
              "              style=\"display:none;\">\n",
              "        \n",
              "  <svg xmlns=\"http://www.w3.org/2000/svg\" height=\"24px\"viewBox=\"0 0 24 24\"\n",
              "       width=\"24px\">\n",
              "    <path d=\"M0 0h24v24H0V0z\" fill=\"none\"/>\n",
              "    <path d=\"M18.56 5.44l.94 2.06.94-2.06 2.06-.94-2.06-.94-.94-2.06-.94 2.06-2.06.94zm-11 1L8.5 8.5l.94-2.06 2.06-.94-2.06-.94L8.5 2.5l-.94 2.06-2.06.94zm10 10l.94 2.06.94-2.06 2.06-.94-2.06-.94-.94-2.06-.94 2.06-2.06.94z\"/><path d=\"M17.41 7.96l-1.37-1.37c-.4-.4-.92-.59-1.43-.59-.52 0-1.04.2-1.43.59L10.3 9.45l-7.72 7.72c-.78.78-.78 2.05 0 2.83L4 21.41c.39.39.9.59 1.41.59.51 0 1.02-.2 1.41-.59l7.78-7.78 2.81-2.81c.8-.78.8-2.07 0-2.86zM5.41 20L4 18.59l7.72-7.72 1.47 1.35L5.41 20z\"/>\n",
              "  </svg>\n",
              "      </button>\n",
              "      \n",
              "  <style>\n",
              "    .colab-df-container {\n",
              "      display:flex;\n",
              "      flex-wrap:wrap;\n",
              "      gap: 12px;\n",
              "    }\n",
              "\n",
              "    .colab-df-convert {\n",
              "      background-color: #E8F0FE;\n",
              "      border: none;\n",
              "      border-radius: 50%;\n",
              "      cursor: pointer;\n",
              "      display: none;\n",
              "      fill: #1967D2;\n",
              "      height: 32px;\n",
              "      padding: 0 0 0 0;\n",
              "      width: 32px;\n",
              "    }\n",
              "\n",
              "    .colab-df-convert:hover {\n",
              "      background-color: #E2EBFA;\n",
              "      box-shadow: 0px 1px 2px rgba(60, 64, 67, 0.3), 0px 1px 3px 1px rgba(60, 64, 67, 0.15);\n",
              "      fill: #174EA6;\n",
              "    }\n",
              "\n",
              "    [theme=dark] .colab-df-convert {\n",
              "      background-color: #3B4455;\n",
              "      fill: #D2E3FC;\n",
              "    }\n",
              "\n",
              "    [theme=dark] .colab-df-convert:hover {\n",
              "      background-color: #434B5C;\n",
              "      box-shadow: 0px 1px 3px 1px rgba(0, 0, 0, 0.15);\n",
              "      filter: drop-shadow(0px 1px 2px rgba(0, 0, 0, 0.3));\n",
              "      fill: #FFFFFF;\n",
              "    }\n",
              "  </style>\n",
              "\n",
              "      <script>\n",
              "        const buttonEl =\n",
              "          document.querySelector('#df-2497b6d5-674d-420f-8338-716e729e76d8 button.colab-df-convert');\n",
              "        buttonEl.style.display =\n",
              "          google.colab.kernel.accessAllowed ? 'block' : 'none';\n",
              "\n",
              "        async function convertToInteractive(key) {\n",
              "          const element = document.querySelector('#df-2497b6d5-674d-420f-8338-716e729e76d8');\n",
              "          const dataTable =\n",
              "            await google.colab.kernel.invokeFunction('convertToInteractive',\n",
              "                                                     [key], {});\n",
              "          if (!dataTable) return;\n",
              "\n",
              "          const docLinkHtml = 'Like what you see? Visit the ' +\n",
              "            '<a target=\"_blank\" href=https://colab.research.google.com/notebooks/data_table.ipynb>data table notebook</a>'\n",
              "            + ' to learn more about interactive tables.';\n",
              "          element.innerHTML = '';\n",
              "          dataTable['output_type'] = 'display_data';\n",
              "          await google.colab.output.renderOutput(dataTable, element);\n",
              "          const docLink = document.createElement('div');\n",
              "          docLink.innerHTML = docLinkHtml;\n",
              "          element.appendChild(docLink);\n",
              "        }\n",
              "      </script>\n",
              "    </div>\n",
              "  </div>\n",
              "  "
            ]
          },
          "metadata": {},
          "execution_count": 25
        }
      ]
    },
    {
      "cell_type": "code",
      "source": [
        "# 3. Checking the shape of Data Frame\n",
        "df.shape"
      ],
      "metadata": {
        "colab": {
          "base_uri": "https://localhost:8080/"
        },
        "id": "X3NF6SKHeC6t",
        "outputId": "4014523e-8346-4e71-b613-05638ae0239d"
      },
      "execution_count": 26,
      "outputs": [
        {
          "output_type": "execute_result",
          "data": {
            "text/plain": [
              "(18539, 89)"
            ]
          },
          "metadata": {},
          "execution_count": 26
        }
      ]
    },
    {
      "cell_type": "code",
      "source": [
        "# 4. Check whether the is any null values\n",
        "print(df.isnull().sum())\n",
        "print(f'Total null value count:{df.isnull().sum().sum()}')"
      ],
      "metadata": {
        "colab": {
          "base_uri": "https://localhost:8080/"
        },
        "id": "Dw_9CDJyeE6r",
        "outputId": "abee7efd-c33c-4857-aa34-b4152d375d74"
      },
      "execution_count": 27,
      "outputs": [
        {
          "output_type": "stream",
          "name": "stdout",
          "text": [
            "Known As          0\n",
            "Full Name         0\n",
            "Overall           0\n",
            "Potential         0\n",
            "Value(in Euro)    0\n",
            "                 ..\n",
            "RWB Rating        0\n",
            "LB Rating         0\n",
            "CB Rating         0\n",
            "RB Rating         0\n",
            "GK Rating         0\n",
            "Length: 89, dtype: int64\n",
            "Total null value count:0\n"
          ]
        }
      ]
    },
    {
      "cell_type": "code",
      "source": [
        "df.columns"
      ],
      "metadata": {
        "colab": {
          "base_uri": "https://localhost:8080/"
        },
        "id": "H2zhhw3Fe0wc",
        "outputId": "5213fe45-69f1-4960-bb89-3220d252c0b1"
      },
      "execution_count": 28,
      "outputs": [
        {
          "output_type": "execute_result",
          "data": {
            "text/plain": [
              "Index(['Known As', 'Full Name', 'Overall', 'Potential', 'Value(in Euro)',\n",
              "       'Positions Played', 'Best Position', 'Nationality', 'Image Link', 'Age',\n",
              "       'Height(in cm)', 'Weight(in kg)', 'TotalStats', 'BaseStats',\n",
              "       'Club Name', 'Wage(in Euro)', 'Release Clause', 'Club Position',\n",
              "       'Contract Until', 'Club Jersey Number', 'Joined On', 'On Loan',\n",
              "       'Preferred Foot', 'Weak Foot Rating', 'Skill Moves',\n",
              "       'International Reputation', 'National Team Name',\n",
              "       'National Team Image Link', 'National Team Position',\n",
              "       'National Team Jersey Number', 'Attacking Work Rate',\n",
              "       'Defensive Work Rate', 'Pace Total', 'Shooting Total', 'Passing Total',\n",
              "       'Dribbling Total', 'Defending Total', 'Physicality Total', 'Crossing',\n",
              "       'Finishing', 'Heading Accuracy', 'Short Passing', 'Volleys',\n",
              "       'Dribbling', 'Curve', 'Freekick Accuracy', 'LongPassing', 'BallControl',\n",
              "       'Acceleration', 'Sprint Speed', 'Agility', 'Reactions', 'Balance',\n",
              "       'Shot Power', 'Jumping', 'Stamina', 'Strength', 'Long Shots',\n",
              "       'Aggression', 'Interceptions', 'Positioning', 'Vision', 'Penalties',\n",
              "       'Composure', 'Marking', 'Standing Tackle', 'Sliding Tackle',\n",
              "       'Goalkeeper Diving', 'Goalkeeper Handling', ' GoalkeeperKicking',\n",
              "       'Goalkeeper Positioning', 'Goalkeeper Reflexes', 'ST Rating',\n",
              "       'LW Rating', 'LF Rating', 'CF Rating', 'RF Rating', 'RW Rating',\n",
              "       'CAM Rating', 'LM Rating', 'CM Rating', 'RM Rating', 'LWB Rating',\n",
              "       'CDM Rating', 'RWB Rating', 'LB Rating', 'CB Rating', 'RB Rating',\n",
              "       'GK Rating'],\n",
              "      dtype='object')"
            ]
          },
          "metadata": {},
          "execution_count": 28
        }
      ]
    },
    {
      "cell_type": "markdown",
      "source": [
        "I will look more specific into Nationality feature"
      ],
      "metadata": {
        "id": "XeSDDF2ueNDQ"
      }
    },
    {
      "cell_type": "code",
      "source": [
        "# 5. Looking into Nationality feature\n",
        "print(f'Nationality feature has {df[\"Nationality\"].nunique()} unique values')"
      ],
      "metadata": {
        "colab": {
          "base_uri": "https://localhost:8080/"
        },
        "id": "vS37o2B5eGpg",
        "outputId": "e820b875-3409-4b9f-8f99-84465c0b00f3"
      },
      "execution_count": 29,
      "outputs": [
        {
          "output_type": "stream",
          "name": "stdout",
          "text": [
            "Nationality feature has 160 unique values\n"
          ]
        }
      ]
    },
    {
      "cell_type": "code",
      "source": [
        "# 6. Count value per Nationality\n",
        "df_nationality_counts = df[\"Nationality\"].value_counts()\n",
        "df_nationality_counts"
      ],
      "metadata": {
        "colab": {
          "base_uri": "https://localhost:8080/"
        },
        "id": "ORHXjfSNeO96",
        "outputId": "693bce52-0c78-4a5c-e0b3-b9d1e518582d"
      },
      "execution_count": 30,
      "outputs": [
        {
          "output_type": "execute_result",
          "data": {
            "text/plain": [
              "England          1632\n",
              "Germany          1204\n",
              "Spain            1074\n",
              "France            963\n",
              "Argentina         937\n",
              "                 ... \n",
              "Bermuda             1\n",
              "Kazakhstan          1\n",
              "Liechtenstein       1\n",
              "Korea DPR           1\n",
              "Barbados            1\n",
              "Name: Nationality, Length: 160, dtype: int64"
            ]
          },
          "metadata": {},
          "execution_count": 30
        }
      ]
    },
    {
      "cell_type": "code",
      "source": [
        "\n",
        "# 7. Plot the count of players\n",
        "df_nationality_counts.plot(kind=\"barh\")\n",
        "plt.xlabel(\"Count of players by Nationality\");"
      ],
      "metadata": {
        "colab": {
          "base_uri": "https://localhost:8080/",
          "height": 283
        },
        "id": "gvzzCpT7eSbf",
        "outputId": "e4b2fb23-4afb-49e3-9fd1-320ceda2ec9d"
      },
      "execution_count": 31,
      "outputs": [
        {
          "output_type": "display_data",
          "data": {
            "text/plain": [
              "<Figure size 432x288 with 1 Axes>"
            ],
            "image/png": "[encoded data removed]"
          },
          "metadata": {
            "needs_background": "light"
          }
        }
      ]
    },
    {
      "cell_type": "code",
      "source": [
        "def country(x):\n",
        "    return df[df['Nationality'] == x].head()\n",
        "\n",
        "\n",
        "# prepare dataset for Indian players\n",
        "country('India')"
      ],
      "metadata": {
        "colab": {
          "base_uri": "https://localhost:8080/",
          "height": 438
        },
        "id": "Jh8OuaVIeUiE",
        "outputId": "f0497cff-93ab-4b7b-dfb5-c98163570254"
      },
      "execution_count": 32,
      "outputs": [
        {
          "output_type": "execute_result",
          "data": {
            "text/plain": [
              "              Known As              Full Name  Overall  Potential  \\\n",
              "10730       S. Chhetri          Sunil Chhetri       65         65   \n",
              "11489       S. Jhingan        Sandesh Jhingan       64         65   \n",
              "12005  G. Singh Sandhu  Gurpreet Singh Sandhu       63         64   \n",
              "13254         A. Thapa          Anirudh Thapa       62         68   \n",
              "13765   S. Abdul Samad      Sahal Abdul Samad       62         65   \n",
              "\n",
              "       Value(in Euro) Positions Played Best Position Nationality  \\\n",
              "10730          230000            LW,ST            ST       India   \n",
              "11489          550000               CB            CB       India   \n",
              "12005          350000               GK            GK       India   \n",
              "13254          625000           CM,CDM            CM       India   \n",
              "13765          525000        RM,LM,CAM           CAM       India   \n",
              "\n",
              "                                             Image Link  Age  ...  LM Rating  \\\n",
              "10730  https://cdn.sofifa.net/players/190/939/23_60.png   37  ...         65   \n",
              "11489  https://cdn.sofifa.net/players/223/763/23_60.png   28  ...         45   \n",
              "12005  https://cdn.sofifa.net/players/225/213/23_60.png   30  ...         29   \n",
              "13254  https://cdn.sofifa.net/players/245/170/23_60.png   24  ...         64   \n",
              "13765  https://cdn.sofifa.net/players/247/630/23_60.png   25  ...         63   \n",
              "\n",
              "       CM Rating  RM Rating  LWB Rating CDM Rating  RWB Rating  LB Rating  \\\n",
              "10730         60         65          55         50          55         53   \n",
              "11489         47         45          57         59          57         59   \n",
              "12005         30         29          29         30          29         28   \n",
              "13254         64         64          64         63          64         62   \n",
              "13765         62         63          58         59          58         57   \n",
              "\n",
              "      CB Rating RB Rating GK Rating  \n",
              "10730        48        53        17  \n",
              "11489        65        59        18  \n",
              "12005        29        28        64  \n",
              "13254        57        62        19  \n",
              "13765        54        57        16  \n",
              "\n",
              "[5 rows x 89 columns]"
            ],
            "text/html": [
              "\n",
              "  <div id=\"df-e7c588d0-c9f6-4f63-8202-a3fd5d69a3dc\">\n",
              "    <div class=\"colab-df-container\">\n",
              "      <div>\n",
              "<style scoped>\n",
              "    .dataframe tbody tr th:only-of-type {\n",
              "        vertical-align: middle;\n",
              "    }\n",
              "\n",
              "    .dataframe tbody tr th {\n",
              "        vertical-align: top;\n",
              "    }\n",
              "\n",
              "    .dataframe thead th {\n",
              "        text-align: right;\n",
              "    }\n",
              "</style>\n",
              "<table border=\"1\" class=\"dataframe\">\n",
              "  <thead>\n",
              "    <tr style=\"text-align: right;\">\n",
              "      <th></th>\n",
              "      <th>Known As</th>\n",
              "      <th>Full Name</th>\n",
              "      <th>Overall</th>\n",
              "      <th>Potential</th>\n",
              "      <th>Value(in Euro)</th>\n",
              "      <th>Positions Played</th>\n",
              "      <th>Best Position</th>\n",
              "      <th>Nationality</th>\n",
              "      <th>Image Link</th>\n",
              "      <th>Age</th>\n",
              "      <th>...</th>\n",
              "      <th>LM Rating</th>\n",
              "      <th>CM Rating</th>\n",
              "      <th>RM Rating</th>\n",
              "      <th>LWB Rating</th>\n",
              "      <th>CDM Rating</th>\n",
              "      <th>RWB Rating</th>\n",
              "      <th>LB Rating</th>\n",
              "      <th>CB Rating</th>\n",
              "      <th>RB Rating</th>\n",
              "      <th>GK Rating</th>\n",
              "    </tr>\n",
              "  </thead>\n",
              "  <tbody>\n",
              "    <tr>\n",
              "      <th>10730</th>\n",
              "      <td>S. Chhetri</td>\n",
              "      <td>Sunil Chhetri</td>\n",
              "      <td>65</td>\n",
              "      <td>65</td>\n",
              "      <td>230000</td>\n",
              "      <td>LW,ST</td>\n",
              "      <td>ST</td>\n",
              "      <td>India</td>\n",
              "      <td>https://cdn.sofifa.net/players/190/939/23_60.png</td>\n",
              "      <td>37</td>\n",
              "      <td>...</td>\n",
              "      <td>65</td>\n",
              "      <td>60</td>\n",
              "      <td>65</td>\n",
              "      <td>55</td>\n",
              "      <td>50</td>\n",
              "      <td>55</td>\n",
              "      <td>53</td>\n",
              "      <td>48</td>\n",
              "      <td>53</td>\n",
              "      <td>17</td>\n",
              "    </tr>\n",
              "    <tr>\n",
              "      <th>11489</th>\n",
              "      <td>S. Jhingan</td>\n",
              "      <td>Sandesh Jhingan</td>\n",
              "      <td>64</td>\n",
              "      <td>65</td>\n",
              "      <td>550000</td>\n",
              "      <td>CB</td>\n",
              "      <td>CB</td>\n",
              "      <td>India</td>\n",
              "      <td>https://cdn.sofifa.net/players/223/763/23_60.png</td>\n",
              "      <td>28</td>\n",
              "      <td>...</td>\n",
              "      <td>45</td>\n",
              "      <td>47</td>\n",
              "      <td>45</td>\n",
              "      <td>57</td>\n",
              "      <td>59</td>\n",
              "      <td>57</td>\n",
              "      <td>59</td>\n",
              "      <td>65</td>\n",
              "      <td>59</td>\n",
              "      <td>18</td>\n",
              "    </tr>\n",
              "    <tr>\n",
              "      <th>12005</th>\n",
              "      <td>G. Singh Sandhu</td>\n",
              "      <td>Gurpreet Singh Sandhu</td>\n",
              "      <td>63</td>\n",
              "      <td>64</td>\n",
              "      <td>350000</td>\n",
              "      <td>GK</td>\n",
              "      <td>GK</td>\n",
              "      <td>India</td>\n",
              "      <td>https://cdn.sofifa.net/players/225/213/23_60.png</td>\n",
              "      <td>30</td>\n",
              "      <td>...</td>\n",
              "      <td>29</td>\n",
              "      <td>30</td>\n",
              "      <td>29</td>\n",
              "      <td>29</td>\n",
              "      <td>30</td>\n",
              "      <td>29</td>\n",
              "      <td>28</td>\n",
              "      <td>29</td>\n",
              "      <td>28</td>\n",
              "      <td>64</td>\n",
              "    </tr>\n",
              "    <tr>\n",
              "      <th>13254</th>\n",
              "      <td>A. Thapa</td>\n",
              "      <td>Anirudh Thapa</td>\n",
              "      <td>62</td>\n",
              "      <td>68</td>\n",
              "      <td>625000</td>\n",
              "      <td>CM,CDM</td>\n",
              "      <td>CM</td>\n",
              "      <td>India</td>\n",
              "      <td>https://cdn.sofifa.net/players/245/170/23_60.png</td>\n",
              "      <td>24</td>\n",
              "      <td>...</td>\n",
              "      <td>64</td>\n",
              "      <td>64</td>\n",
              "      <td>64</td>\n",
              "      <td>64</td>\n",
              "      <td>63</td>\n",
              "      <td>64</td>\n",
              "      <td>62</td>\n",
              "      <td>57</td>\n",
              "      <td>62</td>\n",
              "      <td>19</td>\n",
              "    </tr>\n",
              "    <tr>\n",
              "      <th>13765</th>\n",
              "      <td>S. Abdul Samad</td>\n",
              "      <td>Sahal Abdul Samad</td>\n",
              "      <td>62</td>\n",
              "      <td>65</td>\n",
              "      <td>525000</td>\n",
              "      <td>RM,LM,CAM</td>\n",
              "      <td>CAM</td>\n",
              "      <td>India</td>\n",
              "      <td>https://cdn.sofifa.net/players/247/630/23_60.png</td>\n",
              "      <td>25</td>\n",
              "      <td>...</td>\n",
              "      <td>63</td>\n",
              "      <td>62</td>\n",
              "      <td>63</td>\n",
              "      <td>58</td>\n",
              "      <td>59</td>\n",
              "      <td>58</td>\n",
              "      <td>57</td>\n",
              "      <td>54</td>\n",
              "      <td>57</td>\n",
              "      <td>16</td>\n",
              "    </tr>\n",
              "  </tbody>\n",
              "</table>\n",
              "<p>5 rows × 89 columns</p>\n",
              "</div>\n",
              "      <button class=\"colab-df-convert\" onclick=\"convertToInteractive('df-e7c588d0-c9f6-4f63-8202-a3fd5d69a3dc')\"\n",
              "              title=\"Convert this dataframe to an interactive table.\"\n",
              "              style=\"display:none;\">\n",
              "        \n",
              "  <svg xmlns=\"http://www.w3.org/2000/svg\" height=\"24px\"viewBox=\"0 0 24 24\"\n",
              "       width=\"24px\">\n",
              "    <path d=\"M0 0h24v24H0V0z\" fill=\"none\"/>\n",
              "    <path d=\"M18.56 5.44l.94 2.06.94-2.06 2.06-.94-2.06-.94-.94-2.06-.94 2.06-2.06.94zm-11 1L8.5 8.5l.94-2.06 2.06-.94-2.06-.94L8.5 2.5l-.94 2.06-2.06.94zm10 10l.94 2.06.94-2.06 2.06-.94-2.06-.94-.94-2.06-.94 2.06-2.06.94z\"/><path d=\"M17.41 7.96l-1.37-1.37c-.4-.4-.92-.59-1.43-.59-.52 0-1.04.2-1.43.59L10.3 9.45l-7.72 7.72c-.78.78-.78 2.05 0 2.83L4 21.41c.39.39.9.59 1.41.59.51 0 1.02-.2 1.41-.59l7.78-7.78 2.81-2.81c.8-.78.8-2.07 0-2.86zM5.41 20L4 18.59l7.72-7.72 1.47 1.35L5.41 20z\"/>\n",
              "  </svg>\n",
              "      </button>\n",
              "      \n",
              "  <style>\n",
              "    .colab-df-container {\n",
              "      display:flex;\n",
              "      flex-wrap:wrap;\n",
              "      gap: 12px;\n",
              "    }\n",
              "\n",
              "    .colab-df-convert {\n",
              "      background-color: #E8F0FE;\n",
              "      border: none;\n",
              "      border-radius: 50%;\n",
              "      cursor: pointer;\n",
              "      display: none;\n",
              "      fill: #1967D2;\n",
              "      height: 32px;\n",
              "      padding: 0 0 0 0;\n",
              "      width: 32px;\n",
              "    }\n",
              "\n",
              "    .colab-df-convert:hover {\n",
              "      background-color: #E2EBFA;\n",
              "      box-shadow: 0px 1px 2px rgba(60, 64, 67, 0.3), 0px 1px 3px 1px rgba(60, 64, 67, 0.15);\n",
              "      fill: #174EA6;\n",
              "    }\n",
              "\n",
              "    [theme=dark] .colab-df-convert {\n",
              "      background-color: #3B4455;\n",
              "      fill: #D2E3FC;\n",
              "    }\n",
              "\n",
              "    [theme=dark] .colab-df-convert:hover {\n",
              "      background-color: #434B5C;\n",
              "      box-shadow: 0px 1px 3px 1px rgba(0, 0, 0, 0.15);\n",
              "      filter: drop-shadow(0px 1px 2px rgba(0, 0, 0, 0.3));\n",
              "      fill: #FFFFFF;\n",
              "    }\n",
              "  </style>\n",
              "\n",
              "      <script>\n",
              "        const buttonEl =\n",
              "          document.querySelector('#df-e7c588d0-c9f6-4f63-8202-a3fd5d69a3dc button.colab-df-convert');\n",
              "        buttonEl.style.display =\n",
              "          google.colab.kernel.accessAllowed ? 'block' : 'none';\n",
              "\n",
              "        async function convertToInteractive(key) {\n",
              "          const element = document.querySelector('#df-e7c588d0-c9f6-4f63-8202-a3fd5d69a3dc');\n",
              "          const dataTable =\n",
              "            await google.colab.kernel.invokeFunction('convertToInteractive',\n",
              "                                                     [key], {});\n",
              "          if (!dataTable) return;\n",
              "\n",
              "          const docLinkHtml = 'Like what you see? Visit the ' +\n",
              "            '<a target=\"_blank\" href=https://colab.research.google.com/notebooks/data_table.ipynb>data table notebook</a>'\n",
              "            + ' to learn more about interactive tables.';\n",
              "          element.innerHTML = '';\n",
              "          dataTable['output_type'] = 'display_data';\n",
              "          await google.colab.output.renderOutput(dataTable, element);\n",
              "          const docLink = document.createElement('div');\n",
              "          docLink.innerHTML = docLinkHtml;\n",
              "          element.appendChild(docLink);\n",
              "        }\n",
              "      </script>\n",
              "    </div>\n",
              "  </div>\n",
              "  "
            ]
          },
          "metadata": {},
          "execution_count": 32
        }
      ]
    },
    {
      "cell_type": "markdown",
      "source": [
        "**Data Visualization**"
      ],
      "metadata": {
        "id": "IOKWihjPfRff"
      }
    },
    {
      "cell_type": "code",
      "source": [
        "df['Preferred Foot'].value_counts()"
      ],
      "metadata": {
        "colab": {
          "base_uri": "https://localhost:8080/"
        },
        "id": "X9GYjPXPe6yZ",
        "outputId": "3ee0e101-d461-4285-95dd-78ef9f34d254"
      },
      "execution_count": 33,
      "outputs": [
        {
          "output_type": "execute_result",
          "data": {
            "text/plain": [
              "Right    14045\n",
              "Left      4494\n",
              "Name: Preferred Foot, dtype: int64"
            ]
          },
          "metadata": {},
          "execution_count": 33
        }
      ]
    },
    {
      "cell_type": "code",
      "source": [
        "plt.figure(figsize=(8,6))\n",
        "sns.countplot(df['Preferred Foot'], palette = 'PuBu')\n",
        "plt.title('Preferred Foot of the Players', fontsize = 20)\n",
        "plt.show()"
      ],
      "metadata": {
        "colab": {
          "base_uri": "https://localhost:8080/",
          "height": 464
        },
        "id": "DU6c46USfbSC",
        "outputId": "569a1397-07b8-4f9a-a952-65639171518a"
      },
      "execution_count": 39,
      "outputs": [
        {
          "output_type": "stream",
          "name": "stderr",
          "text": [
            "/usr/local/lib/python3.7/dist-packages/seaborn/_decorators.py:43: FutureWarning: Pass the following variable as a keyword arg: x. From version 0.12, the only valid positional argument will be `data`, and passing other arguments without an explicit keyword will result in an error or misinterpretation.\n",
            "  FutureWarning\n"
          ]
        },
        {
          "output_type": "display_data",
          "data": {
            "text/plain": [
              "<Figure size 576x432 with 1 Axes>"
            ],
            "image/png": "[encoded data removed]"
          },
          "metadata": {
            "needs_background": "light"
          }
        }
      ]
    },
    {
      "cell_type": "markdown",
      "source": [
        "The above countplot is great but it does not show up the exact number of players on top of the bar. To show the exact numbers we can proceed as follows-\n"
      ],
      "metadata": {
        "id": "-tC1ZToDfyTv"
      }
    },
    {
      "cell_type": "code",
      "source": [
        "fig, ax = plt.subplots(figsize=(8,6))\n",
        "graph = sns.countplot(ax=ax,x=df['Preferred Foot'], data=df, palette = 'PuOr')\n",
        "graph.set_title('Preferred Foot of the Players', fontsize = 20)\n",
        "graph.set_xticklabels(graph.get_xticklabels(),rotation=30)\n",
        "for p in graph.patches:\n",
        "    height = p.get_height()\n",
        "    graph.text(p.get_x()+p.get_width()/2., height + 0.1,height ,ha=\"center\")"
      ],
      "metadata": {
        "colab": {
          "base_uri": "https://localhost:8080/",
          "height": 421
        },
        "id": "qj1Ven6rfdQ9",
        "outputId": "7a267d0b-ffaa-4164-cf6a-36a11d09a740"
      },
      "execution_count": 41,
      "outputs": [
        {
          "output_type": "display_data",
          "data": {
            "text/plain": [
              "<Figure size 576x432 with 1 Axes>"
            ],
            "image/png": "[encoded data removed]"
          },
          "metadata": {
            "needs_background": "light"
          }
        }
      ]
    },
    {
      "cell_type": "markdown",
      "source": [
        "Now the above countplots are great but they do not show up the exact percentages of players. We can show the exact percentages of players as follows-"
      ],
      "metadata": {
        "id": "6weqFKicf7uH"
      }
    },
    {
      "cell_type": "code",
      "source": [
        "df['Preferred Foot'].value_counts()/len(df)\n"
      ],
      "metadata": {
        "colab": {
          "base_uri": "https://localhost:8080/"
        },
        "id": "i9HHngujf2H2",
        "outputId": "bbe02777-13d9-4bfe-fba4-cbf2e4fa4ac5"
      },
      "execution_count": 42,
      "outputs": [
        {
          "output_type": "execute_result",
          "data": {
            "text/plain": [
              "Right    0.757592\n",
              "Left     0.242408\n",
              "Name: Preferred Foot, dtype: float64"
            ]
          },
          "metadata": {},
          "execution_count": 42
        }
      ]
    },
    {
      "cell_type": "markdown",
      "source": [
        "We can use a pie chart to visualize the exact percentages."
      ],
      "metadata": {
        "id": "S8jM_pVYgApI"
      }
    },
    {
      "cell_type": "code",
      "source": [
        "labels = df['Preferred Foot'].value_counts().index\n",
        "size = df['Preferred Foot'].value_counts()\n",
        "colors=['cyan','pink']\n",
        "plt.pie(size, labels = labels, colors = colors, shadow = True, autopct='%1.1f%%',startangle = 90)\n",
        "plt.title('Distribution of Preferred Foot among players', fontsize = 20)\n",
        "plt.legend()\n",
        "plt.show()"
      ],
      "metadata": {
        "colab": {
          "base_uri": "https://localhost:8080/",
          "height": 269
        },
        "id": "Y-9IwXk1f-hp",
        "outputId": "db57a62d-4806-4d02-e8e2-7429ee408254"
      },
      "execution_count": 43,
      "outputs": [
        {
          "output_type": "display_data",
          "data": {
            "text/plain": [
              "<Figure size 432x288 with 1 Axes>"
            ],
            "image/png": "[encoded data removed]"
          },
          "metadata": {}
        }
      ]
    },
    {
      "cell_type": "markdown",
      "source": [
        "**Distribution of weak foot**"
      ],
      "metadata": {
        "id": "GWObhp73gELE"
      }
    },
    {
      "cell_type": "markdown",
      "source": [
        "Q. What is the distribution of weak foot ?\n",
        "\n",
        "A. The distribution of weak foot can be obtained as follows -\n"
      ],
      "metadata": {
        "id": "kbzYnD4ugJEX"
      }
    },
    {
      "cell_type": "code",
      "source": [
        "df['Weak Foot Rating'].value_counts()\n"
      ],
      "metadata": {
        "colab": {
          "base_uri": "https://localhost:8080/"
        },
        "id": "wgq5rOPsgHxU",
        "outputId": "51279405-b205-4290-c8be-4c2100b1b4da"
      },
      "execution_count": 50,
      "outputs": [
        {
          "output_type": "execute_result",
          "data": {
            "text/plain": [
              "3    11480\n",
              "2     3933\n",
              "4     2656\n",
              "5      306\n",
              "1      164\n",
              "Name: Weak Foot Rating, dtype: int64"
            ]
          },
          "metadata": {},
          "execution_count": 50
        }
      ]
    },
    {
      "cell_type": "markdown",
      "source": [
        "We can visualize distribution of Weak foot as follows -"
      ],
      "metadata": {
        "id": "24m1NmDWgjNj"
      }
    },
    {
      "cell_type": "code",
      "source": [
        "plt. figure(figsize=(8,5))\n",
        "labels = df['Weak Foot Rating'].value_counts().index\n",
        "size = df['Weak Foot Rating'].value_counts()\n",
        "colors=['cyan','pink','orange','lightgreen','yellow']\n",
        "explode = [0.2, 0.3, 0.3, 0.3, 0.2]\n",
        "plt.pie(size, labels = labels, colors = colors, explode = explode, shadow = True, autopct='%1.1f%%',startangle = 90)\n",
        "plt.title('Distribution of Weak Foot among players', fontsize = 20)\n",
        "plt.legend()\n",
        "plt.show()\n"
      ],
      "metadata": {
        "colab": {
          "base_uri": "https://localhost:8080/",
          "height": 324
        },
        "id": "gTF0EK61gcMu",
        "outputId": "7aa21498-bb61-4d0b-d3e7-b38d6cdb246f"
      },
      "execution_count": 58,
      "outputs": [
        {
          "output_type": "display_data",
          "data": {
            "text/plain": [
              "<Figure size 576x360 with 1 Axes>"
            ],
            "image/png": "[encoded data removed]"
          },
          "metadata": {}
        }
      ]
    },
    {
      "cell_type": "markdown",
      "source": [
        "**Age distribution of players**\n",
        "\n",
        "Q. How can we visualize the age distribution of players.\n",
        "\n",
        "A. We can use a histogram to visualize the age distribution of players."
      ],
      "metadata": {
        "id": "tSAx2w7PhtsH"
      }
    },
    {
      "cell_type": "code",
      "source": [
        "x = df['Age']\n",
        "plt.figure(figsize=(18,10))\n",
        "ax = sns.countplot(x, color='g')\n",
        "ax.set_xlabel(xlabel = 'Age of the Players', fontsize = 16)\n",
        "ax.set_title(label = 'Distribution of Age of the Players', fontsize = 20)\n",
        "plt.show()"
      ],
      "metadata": {
        "colab": {
          "base_uri": "https://localhost:8080/",
          "height": 687
        },
        "id": "mL2lVjn8glq1",
        "outputId": "7b02a0ac-24c6-4f01-a89d-4cacb25cd8aa"
      },
      "execution_count": 59,
      "outputs": [
        {
          "output_type": "stream",
          "name": "stderr",
          "text": [
            "/usr/local/lib/python3.7/dist-packages/seaborn/_decorators.py:43: FutureWarning: Pass the following variable as a keyword arg: x. From version 0.12, the only valid positional argument will be `data`, and passing other arguments without an explicit keyword will result in an error or misinterpretation.\n",
            "  FutureWarning\n"
          ]
        },
        {
          "output_type": "display_data",
          "data": {
            "text/plain": [
              "<Figure size 1296x720 with 1 Axes>"
            ],
            "image/png": "[encoded data removed]"
          },
          "metadata": {
            "needs_background": "light"
          }
        }
      ]
    },
    {
      "cell_type": "code",
      "source": [
        "x = df['Age']\n",
        "plt.figure(figsize = (12, 8))\n",
        "plt.style.use('ggplot')\n",
        "ax = sns.distplot(x, bins = 20, kde = True, color='g')\n",
        "ax.set_xlabel(xlabel = 'Age of the Players', fontsize = 16)\n",
        "ax.set_title(label = 'Histogram for Age distribution of Players', fontsize = 20)\n",
        "plt.show()"
      ],
      "metadata": {
        "colab": {
          "base_uri": "https://localhost:8080/",
          "height": 578
        },
        "id": "NacrDqNjhw-f",
        "outputId": "f512232e-8988-4692-9cc8-fe71bc0f8e57"
      },
      "execution_count": 60,
      "outputs": [
        {
          "output_type": "stream",
          "name": "stderr",
          "text": [
            "/usr/local/lib/python3.7/dist-packages/seaborn/distributions.py:2619: FutureWarning: `distplot` is a deprecated function and will be removed in a future version. Please adapt your code to use either `displot` (a figure-level function with similar flexibility) or `histplot` (an axes-level function for histograms).\n",
            "  warnings.warn(msg, FutureWarning)\n"
          ]
        },
        {
          "output_type": "display_data",
          "data": {
            "text/plain": [
              "<Figure size 864x576 with 1 Axes>"
            ],
            "image/png": "[encoded data removed]"
          },
          "metadata": {
            "needs_background": "light"
          }
        }
      ]
    },
    {
      "cell_type": "markdown",
      "source": [
        "**Visualize International Reputation**\n",
        "\n",
        "Q. How can we track international reputation of players.\n",
        "\n",
        "A. We can track international reputation of players as follows -"
      ],
      "metadata": {
        "id": "XV5G81Tyh17Q"
      }
    },
    {
      "cell_type": "code",
      "source": [
        "df['International Reputation'].value_counts()"
      ],
      "metadata": {
        "colab": {
          "base_uri": "https://localhost:8080/"
        },
        "id": "g2r2RR16hzUJ",
        "outputId": "98cdd941-45fa-4dbd-ef62-2ec2d3c69513"
      },
      "execution_count": 61,
      "outputs": [
        {
          "output_type": "execute_result",
          "data": {
            "text/plain": [
              "1    17325\n",
              "2      897\n",
              "3      255\n",
              "4       55\n",
              "5        7\n",
              "Name: International Reputation, dtype: int64"
            ]
          },
          "metadata": {},
          "execution_count": 61
        }
      ]
    },
    {
      "cell_type": "code",
      "source": [
        "plt.figure(figsize=(12,10))\n",
        "sns.countplot(df['International Reputation'], palette = 'husl')\n",
        "plt.title('International Reputation of the Players', fontsize = 20)\n",
        "plt.show()\n"
      ],
      "metadata": {
        "colab": {
          "base_uri": "https://localhost:8080/",
          "height": 685
        },
        "id": "Ry3wyuIqh5NF",
        "outputId": "500d65f0-a6ad-4964-d0b0-7111e8f60969"
      },
      "execution_count": 62,
      "outputs": [
        {
          "output_type": "stream",
          "name": "stderr",
          "text": [
            "/usr/local/lib/python3.7/dist-packages/seaborn/_decorators.py:43: FutureWarning: Pass the following variable as a keyword arg: x. From version 0.12, the only valid positional argument will be `data`, and passing other arguments without an explicit keyword will result in an error or misinterpretation.\n",
            "  FutureWarning\n"
          ]
        },
        {
          "output_type": "display_data",
          "data": {
            "text/plain": [
              "<Figure size 864x720 with 1 Axes>"
            ],
            "image/png": "[encoded data removed]"
          },
          "metadata": {}
        }
      ]
    },
    {
      "cell_type": "code",
      "source": [
        "plt. figure(figsize=(8,5))\n",
        "labels = df['International Reputation'].value_counts().index\n",
        "size = df['International Reputation'].value_counts()\n",
        "explode = [0.3, 0.1, 0.1, 0, 0]\n",
        "plt.pie(size, labels = labels, explode = explode, shadow = True, autopct='%1.1f%%',startangle = 90)\n",
        "plt.title('Distribution of International Reputation of players', fontsize = 20)\n",
        "plt.legend()\n",
        "plt.tight_layout()\n",
        "plt.show()\n"
      ],
      "metadata": {
        "colab": {
          "base_uri": "https://localhost:8080/",
          "height": 371
        },
        "id": "rLHy7Oylh6gw",
        "outputId": "f4c8c838-be77-4645-9109-012fc41b9a86"
      },
      "execution_count": 72,
      "outputs": [
        {
          "output_type": "display_data",
          "data": {
            "text/plain": [
              "<Figure size 576x360 with 1 Axes>"
            ],
            "image/png": "[encoded data removed]"
          },
          "metadata": {}
        }
      ]
    },
    {
      "cell_type": "markdown",
      "source": [
        "Q. What is the international reputation of left and right footed players?\n",
        "\n",
        "A. The international reputation of left and right footed players can be given as follows -"
      ],
      "metadata": {
        "id": "t_1RVi2NjgLv"
      }
    },
    {
      "cell_type": "code",
      "source": [
        "df.groupby('Preferred Foot')['International Reputation'].value_counts()"
      ],
      "metadata": {
        "colab": {
          "base_uri": "https://localhost:8080/"
        },
        "id": "ps77GWCVh8aD",
        "outputId": "c5e97b99-16cd-404f-e029-484d5079f644"
      },
      "execution_count": 73,
      "outputs": [
        {
          "output_type": "execute_result",
          "data": {
            "text/plain": [
              "Preferred Foot  International Reputation\n",
              "Left            1                            4207\n",
              "                2                             205\n",
              "                3                              69\n",
              "                4                              12\n",
              "                5                               1\n",
              "Right           1                           13118\n",
              "                2                             692\n",
              "                3                             186\n",
              "                4                              43\n",
              "                5                               6\n",
              "Name: International Reputation, dtype: int64"
            ]
          },
          "metadata": {},
          "execution_count": 73
        }
      ]
    },
    {
      "cell_type": "code",
      "source": [
        "plt.figure(figsize=(12,10))\n",
        "sns.countplot(df['International Reputation'], hue=df['Preferred Foot'], palette = 'husl')\n",
        "plt.title('International Reputation of Left and Right Footed Players ', fontsize = 20)\n",
        "plt.show()"
      ],
      "metadata": {
        "id": "sYXyineojh6w"
      },
      "execution_count": 74,
      "outputs": []
    },
    {
      "cell_type": "markdown",
      "source": [
        "Work Rate of the Players\n",
        "Q. What is the different work rate of the players?\n",
        "\n",
        "A. The different work rate of the players can be given as follows -"
      ],
      "metadata": {
        "id": "-bhA1-b0jlFW"
      }
    },
    {
      "cell_type": "code",
      "source": [
        "df['Defensive Work Rate'].value_counts()"
      ],
      "metadata": {
        "colab": {
          "base_uri": "https://localhost:8080/"
        },
        "id": "XNg9t90jjlVT",
        "outputId": "795eb24d-6278-4622-a1a3-e63df05742b3"
      },
      "execution_count": 77,
      "outputs": [
        {
          "output_type": "execute_result",
          "data": {
            "text/plain": [
              "Medium    13613\n",
              "High       3377\n",
              "Low        1549\n",
              "Name: Defensive Work Rate, dtype: int64"
            ]
          },
          "metadata": {},
          "execution_count": 77
        }
      ]
    },
    {
      "cell_type": "markdown",
      "source": [
        "We can visualize the work rate of the players as follows -"
      ],
      "metadata": {
        "id": "saENHwI5jrPY"
      }
    },
    {
      "cell_type": "code",
      "source": [
        "fig, ax = plt.subplots(figsize=(12,8))\n",
        "graph = sns.countplot(ax=ax,x=df['Defensive Work Rate'], data=df, palette = 'PuBuGn_d')\n",
        "graph.set_title('Defensive Work Rate of the Players', fontsize = 20)\n",
        "graph.set_xticklabels(graph.get_xticklabels(), rotation=30)\n",
        "for p in graph.patches:\n",
        "    height = p.get_height()\n",
        "    graph.text(p.get_x()+p.get_width()/2., height + 0.1,height ,ha=\"center\")"
      ],
      "metadata": {
        "colab": {
          "base_uri": "https://localhost:8080/",
          "height": 539
        },
        "id": "cobKK_JxjnkM",
        "outputId": "c9120f27-bb44-452f-deb6-610454f2e8d3"
      },
      "execution_count": 78,
      "outputs": [
        {
          "output_type": "display_data",
          "data": {
            "text/plain": [
              "<Figure size 864x576 with 1 Axes>"
            ],
            "image/png": "[encoded data removed]"
          },
          "metadata": {}
        }
      ]
    },
    {
      "cell_type": "code",
      "source": [
        "labels = df['Defensive Work Rate'].value_counts().index\n",
        "size = df['Defensive Work Rate'].value_counts()\n",
        "explode = [0,0,0]\n",
        "plt.pie(size, labels = labels, explode = explode, shadow = True, autopct='%1.1f%%',startangle = 90)\n",
        "plt.title('Distribution of Work Rate of players', fontsize = 20)\n",
        "plt.legend()\n",
        "plt.show()"
      ],
      "metadata": {
        "colab": {
          "base_uri": "https://localhost:8080/",
          "height": 269
        },
        "id": "1k6xoaNyjspv",
        "outputId": "d1c46333-5d5a-4bf8-bcef-785d14d9b915"
      },
      "execution_count": 83,
      "outputs": [
        {
          "output_type": "display_data",
          "data": {
            "text/plain": [
              "<Figure size 432x288 with 1 Axes>"
            ],
            "image/png": "[encoded data removed]"
          },
          "metadata": {}
        }
      ]
    },
    {
      "cell_type": "markdown",
      "source": [
        "**Skill Moves of the Players**\n",
        "\n",
        "Q. What is the different skill moves of the players?\n",
        "\n",
        "A. The different work rate of the players can be given as follows -"
      ],
      "metadata": {
        "id": "cuKQMQB2kTzt"
      }
    },
    {
      "cell_type": "code",
      "source": [
        "df['Skill Moves'].value_counts()"
      ],
      "metadata": {
        "colab": {
          "base_uri": "https://localhost:8080/"
        },
        "id": "ccnAf6fekBJx",
        "outputId": "d79ed333-01e6-44ae-f9ae-19cd893531f9"
      },
      "execution_count": 84,
      "outputs": [
        {
          "output_type": "execute_result",
          "data": {
            "text/plain": [
              "2    8895\n",
              "3    6369\n",
              "1    2061\n",
              "4    1162\n",
              "5      52\n",
              "Name: Skill Moves, dtype: int64"
            ]
          },
          "metadata": {},
          "execution_count": 84
        }
      ]
    },
    {
      "cell_type": "markdown",
      "source": [
        "We can visualize the skill moves of the players as follows-"
      ],
      "metadata": {
        "id": "KO0gj5YzkZyH"
      }
    },
    {
      "cell_type": "code",
      "source": [
        "fig, ax = plt.subplots(figsize=(12,8))\n",
        "graph = sns.countplot(ax=ax,x=df['Skill Moves'], data=df, palette = 'PuBuGn_d')\n",
        "graph.set_title('Skill Moves of the Players', fontsize = 20)\n",
        "graph.set_xticklabels(graph.get_xticklabels(), rotation=30)\n",
        "for p in graph.patches:\n",
        "    height = p.get_height()\n",
        "    graph.text(p.get_x()+p.get_width()/2., height + 0.1,height ,ha=\"center\")"
      ],
      "metadata": {
        "colab": {
          "base_uri": "https://localhost:8080/",
          "height": 523
        },
        "id": "QdTvmx3-kXro",
        "outputId": "116e9dd7-079a-4c87-fae9-e31b6c52a9d6"
      },
      "execution_count": 85,
      "outputs": [
        {
          "output_type": "display_data",
          "data": {
            "text/plain": [
              "<Figure size 864x576 with 1 Axes>"
            ],
            "image/png": "[encoded data removed]"
          },
          "metadata": {}
        }
      ]
    },
    {
      "cell_type": "markdown",
      "source": [
        "**Analyse players based on club**"
      ],
      "metadata": {
        "id": "f58lu6fGkl2B"
      }
    },
    {
      "cell_type": "code",
      "source": [
        "df['Club Name'].nunique()"
      ],
      "metadata": {
        "colab": {
          "base_uri": "https://localhost:8080/"
        },
        "id": "bkU_g9slkcNk",
        "outputId": "d1e673bd-02b8-4584-f0e3-846dd48bd294"
      },
      "execution_count": 88,
      "outputs": [
        {
          "output_type": "execute_result",
          "data": {
            "text/plain": [
              "679"
            ]
          },
          "metadata": {},
          "execution_count": 88
        }
      ]
    },
    {
      "cell_type": "code",
      "source": [
        "df['Club Name'].unique()"
      ],
      "metadata": {
        "colab": {
          "base_uri": "https://localhost:8080/"
        },
        "id": "v0pqJHRFkpk7",
        "outputId": "5e96ece2-eb95-45ff-9aa2-1c5caa2a0b97"
      },
      "execution_count": 89,
      "outputs": [
        {
          "output_type": "execute_result",
          "data": {
            "text/plain": [
              "array(['Paris Saint-Germain', 'Real Madrid CF', 'FC Barcelona',\n",
              "       'Manchester City', 'Liverpool', 'FC Bayern München',\n",
              "       'Manchester United', 'Tottenham Hotspur', 'Atlético de Madrid',\n",
              "       'Chelsea', 'AC Milan', 'Lazio', 'Inter', 'Roma', 'Juventus',\n",
              "       'Eintracht Frankfurt', 'Villarreal CF', 'RB Leipzig',\n",
              "       'Borussia Dortmund', 'Real Betis Balompié', 'RC Celta de Vigo',\n",
              "       'Sevilla FC', 'Leicester City', 'Bayer 04 Leverkusen',\n",
              "       'Borussia Mönchengladbach', 'Galatasaray SK',\n",
              "       'Club Nacional de Football', 'Ajax', 'U.S. Sassuolo Calcio',\n",
              "       'Arsenal', 'Aston Villa', 'AS Monaco', 'Toronto FC',\n",
              "       'VfL Wolfsburg', 'Athletic Club de Bilbao', 'Newcastle United',\n",
              "       'Los Angeles FC', 'AFC Richmond', 'West Ham United',\n",
              "       'Real Sociedad', 'TSG Hoffenheim', 'Wolverhampton Wanderers',\n",
              "       'Palmeiras', 'Napoli', 'PSV', 'Atalanta', 'OGC Nice', 'SL Benfica',\n",
              "       'Getafe CF', 'Al Nassr', 'Valencia CF', 'FC Porto',\n",
              "       'Sport-Club Freiburg', 'Club Athletico Paranaense', 'Everton',\n",
              "       'RCD Espanyol de Barcelona', 'Olympique de Marseille',\n",
              "       'Royal Antwerp FC', 'Bologna', 'Sporting CP', 'Olympique Lyonnais',\n",
              "       'Crystal Palace', 'Fiorentina', 'Stade Rennais FC',\n",
              "       'AFC Bournemouth', 'Trabzonspor', 'Clube Atlético Mineiro',\n",
              "       'Flamengo', 'RB Bragantino', 'Sport Club Corinthians Paulista',\n",
              "       'Fulham', 'Al Shabab', 'RSC Anderlecht', 'Shanghai Port FC',\n",
              "       'Southampton', 'Montpellier Hérault SC', 'SC Braga',\n",
              "       'Racing Club de Lens', 'Leeds United', 'FC Nantes',\n",
              "       'Internacional', 'Fluminense', 'Dynamo Kyiv', 'Nottingham Forest',\n",
              "       'Dinamo Zagreb', 'Unión Deportiva Las Palmas', 'N.E.C. Nijmegen',\n",
              "       'Club Brugge KV', 'Udinese Calcio', 'Free agent', 'Elche CF',\n",
              "       'Houston Dynamo', 'LOSC Lille', 'US Salernitana 1919', 'AC Monza',\n",
              "       'Cádiz CF', 'New England Revolution', 'Feyenoord', 'Al Fayha',\n",
              "       'Brighton & Hove Albion', 'Rayo Vallecano', 'Santos', 'CA Osasuna',\n",
              "       'Boca Juniors', '1. FC Köln', 'Beşiktaş JK', 'Brøndby IF',\n",
              "       'LA Galaxy', 'Real Valladolid CF', 'Parma', 'Minnesota United FC',\n",
              "       'Fenerbahçe SK', 'RC Strasbourg Alsace', 'VfL Bochum 1848',\n",
              "       'Seattle Sounders FC', 'Adana Demirspor', 'Columbus Crew',\n",
              "       'River Plate', 'KRC Genk', 'Wuhan Three Towns', 'Lecce',\n",
              "       'SK Slavia Praha', 'VfB Stuttgart', 'SV Werder Bremen',\n",
              "       'Granada CF', 'Empoli', 'Torino F.C.', 'RCD Mallorca',\n",
              "       'Shakhtar Donetsk', 'Watford', 'FC Basel 1893', 'Brentford',\n",
              "       'U.C. Sampdoria', 'Al Hilal', 'İstanbul Başakşehir FK',\n",
              "       'Austin FC', 'Atlanta United', 'Unión Deportiva Almería',\n",
              "       'Al Ittihad', 'Rangers FC', 'Hellas Verona', 'Racing Club',\n",
              "       'F.C. København', 'Inter Miami CF', 'Antalyaspor', 'FC Twente',\n",
              "       'Levante Unión Deportiva', 'Girona FC', 'AZ Alkmaar',\n",
              "       'Stade de Reims', 'São Paulo', 'Gil Vicente FC',\n",
              "       'Real Sporting de Gijón', 'FC Augsburg', 'Wuhan FC',\n",
              "       'Middlesbrough', 'Celtic', 'Angers SCO', 'Fortuna Sittard',\n",
              "       '1. FSV Mainz 05', 'Al Wehda', 'Philadelphia Union', 'PAOK',\n",
              "       'Stade Brestois 29', 'Melbourne Victory', '1. FC Union Berlin',\n",
              "       'Club Atlético Colón', 'Real Oviedo', 'FC Sion', 'Vélez Sarsfield',\n",
              "       'Hertha BSC', 'AC Sparta Praha', 'Hajduk Split', 'AEK Athens',\n",
              "       'Nashville SC', 'FC Midtjylland', 'KAA Gent',\n",
              "       'Universidad Católica', 'Club Olimpia', 'Panathinaikos FC',\n",
              "       'Shenzhen FC', 'Club Atlético Independiente', 'BSC Young Boys',\n",
              "       'Racing Santander', 'Fatih Karagümrük S.K.', 'Ettifaq FC',\n",
              "       'Chicago Fire Football Club', 'Clermont Foot 63',\n",
              "       'Ferencvárosi TC', 'FC Cincinnati', 'FC Viktoria Plzeň',\n",
              "       'Portland Timbers', 'Burnley', 'FC Utrecht', 'US Cremonese',\n",
              "       'Godoy Cruz', 'Ceará Sporting Club', 'Rio Ave FC', 'Servette FC',\n",
              "       'América Futebol Clube', 'Deportivo Alavés',\n",
              "       'Estudiantes de La Plata', 'Al Ain FC', 'FC Schalke 04',\n",
              "       'FC Lugano', 'New York City FC', 'Demir Grup Sivasspor',\n",
              "       'Norwich City', 'Adelaide United', 'América de Cali', 'Spezia',\n",
              "       'MKE Ankaragücü', 'Cuiabá', 'ESTAC Troyes', 'New York Red Bulls',\n",
              "       'FC Girondins de Bordeaux', 'FC Red Bull Salzburg', 'FC Lorient',\n",
              "       'FC Dallas', 'Royale Union Saint-Gilloise', 'Al Taawoun', 'Pisa',\n",
              "       'FBC Melgar', 'Club Atlético Talleres', 'Hull City',\n",
              "       'Club de Foot Montréal', \"Newell's Old Boys\", 'Al Fateh',\n",
              "       'Vitesse', 'AJ Auxerre', 'Atlético Clube Goianiense',\n",
              "       'Club Cerro Porteño', 'DSC Arminia Bielefeld', 'Daegu FC',\n",
              "       'Blackburn Rovers', 'FC Metz', 'Club Libertad', 'Orlando Pirates',\n",
              "       'Sheffield United', '1. FC Kaiserslautern', 'Abha Club',\n",
              "       'Clube Sport Marítimo', 'West Bromwich Albion', 'Venezia FC',\n",
              "       'Stade Malherbe Caen', 'D.C. United', 'Club Atlético Huracán',\n",
              "       'Zhejiang Professional FC', 'Malmö FF', 'Gazişehir Gaziantep F.K.',\n",
              "       'Atakaş Hatayspor', 'Sporting Kansas City', 'Cagliari',\n",
              "       'Gimnasia y Esgrima La Plata', 'Guangzhou City',\n",
              "       'Club Atlético Lanús', 'Genoa', 'SD Eibar', 'Coventry City',\n",
              "       'KV Mechelen', 'Argentinos Juniors', 'San Jose Earthquakes',\n",
              "       'Royal Charleroi S.C.', 'Aytemiz Alanyaspor', 'Santa Clara',\n",
              "       'Orlando City Soccer Club', 'CD Leganés', 'Al Adalah',\n",
              "       'KV Oostende', 'Standard de Liège', 'Shanghai Shenhua FC',\n",
              "       'Henan Songshan Longmen FC', 'Deportivo Ñublense', 'Boavista FC',\n",
              "       'KVC Westerlo', 'Vitória de Guimarães', 'Club Atlético Aldosivi',\n",
              "       'Queens Park Rangers', 'Club Atlético Peñarol', 'Shandong Taishan',\n",
              "       'Fortaleza', 'Club Atlético Tigre', 'Mamelodi Sundowns FC',\n",
              "       'Colo-Colo', 'Kasimpaşa SK', 'Independiente del Valle',\n",
              "       'Valenciennes FC', 'Jeonbuk Hyundai Motors', 'Deportivo Cali',\n",
              "       'UD Ibiza', 'Junior FC', 'Suwon Samsung Bluewings', 'CD Mirandés',\n",
              "       'SD Huesca', 'Heart of Midlothian', 'İttifak Holding Konyaspor',\n",
              "       'FK Bodø/Glimt', 'Hamburger SV', 'Charlotte FC',\n",
              "       'Club Deportes Tolima', 'Kaizer Chiefs', 'Toulouse Football Club',\n",
              "       'Damac FC', 'Casa Pia', 'Preston North End', 'FC Seoul',\n",
              "       'KV Kortrijk', 'Frosinone', 'Bristol City', 'Rosario Central',\n",
              "       'Real Salt Lake', 'Swansea City', 'AC Ajaccio', '1. FC Magdeburg',\n",
              "       'Oud-Heverlee Leuven', 'CD Tenerife', 'Reading', 'Málaga CF',\n",
              "       'Jeju United FC', 'Urbs Reggina 1914', 'FC Zürich', 'Cosenza',\n",
              "       'Atlético Tucumán', 'FC St. Gallen 1879', 'Hannover 96',\n",
              "       'APOEL Nicosia FC', 'Al Raed', 'Ulsan Hyundai FC',\n",
              "       'Club Atlético Banfield', 'LDU Quito',\n",
              "       'CD Everton de Viña del Mar', 'Shijiazhuang Ever Bright F.C.',\n",
              "       'Changchun Yatai FC', 'Yukatel Kayserispor',\n",
              "       'En Avant de Guingamp', 'Atlético Nacional',\n",
              "       'Chengdu Rongcheng F.C.', 'SV Darmstadt 98', 'FC Luzern',\n",
              "       'FC Paços de Ferreira', 'Unión de Santa Fe', 'Platense',\n",
              "       'GZT Giresunspor', 'Como', 'Futebol Clube de Famalicão',\n",
              "       'Western United FC', 'SK Sturm Graz', 'KAS Eupen',\n",
              "       'Defensa y Justicia', 'Nîmes Olympique', 'Paris FC',\n",
              "       'AS Saint-Étienne', 'Independiente Medellín', 'Real Zaragoza',\n",
              "       'Macarthur FC', '1. FC Nürnberg', 'Pogoń Szczecin', 'Ascoli',\n",
              "       'Portimonense SC', 'KSV Cercle Brugge', 'Unión Española',\n",
              "       'Al Khaleej', 'Legia Warszawa', 'Al Batin', 'Millwall',\n",
              "       'Hammarby IF', 'Benevento', 'Vancouver Whitecaps FC',\n",
              "       'Djurgårdens IF', 'Chamois Niortais Football Club', 'IF Elfsborg',\n",
              "       'Fortuna Düsseldorf', 'SD Ponferradina', 'Club Alianza Lima',\n",
              "       'Bari', 'CFR Cluj', 'SV Sandhausen', 'Piast Gliwice', 'CS Emelec',\n",
              "       'Sint-Truidense VV', 'SC Heerenveen', 'FCSB (Steaua)',\n",
              "       'Unión La Calera', 'Colorado Rapids', 'FC Cartagena',\n",
              "       'Club Atlético Sarmiento', 'Hibernian', 'Estoril Praia',\n",
              "       'LASK Linz', 'Stoke City', 'C.D. Universidad Católica del Ecuador',\n",
              "       'Lech Poznań', 'Club Sol de América', 'San Lorenzo de Almagro',\n",
              "       'AIK', 'Club Nacional', 'Aalborg BK', 'SpVgg Greuther Fürth',\n",
              "       'SK Rapid Wien', 'Go Ahead Eagles', 'Burgos CF',\n",
              "       'Beijing Guoan FC', 'Derby County', 'FC Sochaux-Montbéliard',\n",
              "       'SPAL', 'CD Lugo', 'FC Vizela', 'Luton Town',\n",
              "       'Club Sporting Cristal', 'Rosenborg BK', 'Karlsruher SC',\n",
              "       'Palermo', 'Melbourne City FC', 'Al Tai', 'Brescia', 'Cienciano',\n",
              "       'Molde FK', '1. FC Heidenheim 1846', 'Liverpool Fútbol Club',\n",
              "       'Huddersfield Town', 'FC St. Pauli', 'Aarhus GF',\n",
              "       'Pohang Steelers', 'Sparta Rotterdam', 'F.C. Hansa Rostock',\n",
              "       'Dijon FCO', 'Sheffield Wednesday', 'Górnik Zabrze',\n",
              "       'Western Sydney Wanderers', 'Club Atlético River Plate',\n",
              "       'Raków Częstochowa', 'Ternana', 'Cardiff City', 'Modena',\n",
              "       'FC Arouca', 'Rotherham United', 'Vålerenga Fotball',\n",
              "       'IFK Norrköping', 'FC Ingolstadt 04', 'Patronato',\n",
              "       'Villarreal Club de Fútbol B', 'Birmingham City',\n",
              "       'SV Zulte Waregem', 'Guangzhou FC', 'FC Groningen', 'Blackpool',\n",
              "       'Holstein Kiel', 'SV Ried', 'Silkeborg IF', 'Peterborough United',\n",
              "       'FC Farul Constanța', 'Wigan Athletic', 'Suwon FC', 'Randers FC',\n",
              "       'SC Paderborn 07', 'BK Häcken', 'Lyngby BK',\n",
              "       'Grasshopper Club Zürich', 'Le Havre AC', 'SSV Jahn Regensburg',\n",
              "       'Lillestrøm SK', 'Universitatea Craiova', 'Viking FK',\n",
              "       'Club The Strongest', 'Incheon United FC', 'Perth Glory',\n",
              "       'Eintracht Braunschweig', 'Perugia', 'FC Andorra',\n",
              "       'ATK Mohun Bagan FC', 'Ümraniyespor', 'Guaireña FC',\n",
              "       'Club Atlético Central Córdoba', 'Amiens SC', 'Hyderabad FC',\n",
              "       'Petrolul Ploiești', 'Club Always Ready', 'Portsmouth',\n",
              "       'GD Chaves', 'Sydney FC', 'Aberdeen', 'Lechia Gdańsk',\n",
              "       'Albacete BP', 'Bengaluru FC', 'Sunderland', 'FC Emmen',\n",
              "       'Gangwon FC', 'La Equidad', 'Tianjin Jinmen Tiger FC',\n",
              "       'Arsenal de Sarandí', 'Oxford United', 'Barracas Central',\n",
              "       'FK Austria Wien', 'Rapid București', 'Brisbane Roar',\n",
              "       'AFC UTA Arad', 'Newcastle Jets', 'FC Erzgebirge Aue',\n",
              "       'FC Volendam', 'CD Antofagasta', 'Barnsley', 'Kalmar FF',\n",
              "       'Central Coast Mariners', 'Mumbai City FC', 'Mushuc Runa',\n",
              "       'Jagiellonia Białystok', 'Meizhou Hakka', 'FC U Craiova 1948',\n",
              "       'RZ Pellets Wolfsberger AC', 'Cracovia', 'Motherwell', 'FC Annecy',\n",
              "       'Dundee United', 'Seraing', 'SC Cambuur', 'Südtirol',\n",
              "       'Wisła Płock', 'Club Deportivo Oriente Petrolero',\n",
              "       'Sangju Sangmu FC', 'Grenoble Foot 38', 'FC Nordsjælland',\n",
              "       'Strømsgodset IF', 'FC Goa', 'Radomiak Radom', 'Wycombe Wanderers',\n",
              "       'TSV 1860 München', 'Excelsior', 'Barcelona Sporting Club',\n",
              "       'Seongnam FC', 'Independiente Petrolero', 'İstanbulspor',\n",
              "       'Ipswich Town', 'SV Waldhof Mannheim 07', 'HJK Helsinki',\n",
              "       'Wellington Phoenix', 'Estudiantes de Mérida', 'St. Johnstone FC',\n",
              "       'Widzew Łódź', 'Caracas Fútbol Club', 'Rodez Aveyron Football',\n",
              "       'Royal Pari', 'IFK Göteborg', 'SG Dynamo Dresden', 'Ayacucho',\n",
              "       'FC Botoşani', 'Śląsk Wrocław', 'VfL Osnabrück',\n",
              "       'Club Deportivo Jorge Wilstermann', 'Odense Boldklub',\n",
              "       'Sepsi OSK Sf. Gheorghe', 'Chennaiyin FC', 'Delfín Sporting Club',\n",
              "       'Deportivo La Guaira FC', 'Kerala Blasters FC', 'Sarpsborg 08 FF',\n",
              "       'TSV Egger Glas Hartberg', 'Stade Lavallois Mayenne FC',\n",
              "       'FSV Zwickau', 'Plymouth Argyle', 'Rot-Weiß Essen', 'Cittadella',\n",
              "       'Bolton Wanderers', 'Miedź Legnica', 'Deportivo Táchira FC',\n",
              "       'Viborg FF', 'Hallescher FC', 'Metropolitanos de Caracas FC',\n",
              "       'Montevideo Wanderers', 'GIF Sundsvall', 'AC Horsens',\n",
              "       'Cheltenham Town', '1. FC Saarbrücken', 'Pau FC', '9 de Octubre',\n",
              "       'Fleetwood Town', 'Odisha FC', 'Jamshedpur FC',\n",
              "       'Cerro Largo Fútbol Club', 'RKC Waalwijk', 'Exeter City',\n",
              "       'Dalian Professional Football Club', 'St. Mirren', 'Aalesunds FK',\n",
              "       'WSG Tirol', 'Zagłębie Lubin', 'Milton Keynes Dons', 'Morecambe',\n",
              "       'Odds BK', 'Hermanos Colmenarez', 'Charlton Athletic',\n",
              "       'Shamrock Rovers', 'Club Deportivo Guabirá', 'FC Voluntari',\n",
              "       'AFC Chindia Târgoviște', 'Viktoria Köln', 'Wrexham AFC',\n",
              "       'SC Bastia', 'Universitatea Cluj', 'Sport Boys', 'Shrewsbury Town',\n",
              "       'US Quevilly Rouen Métropole', 'Austria Lustenau', 'MSV Duisburg',\n",
              "       'Colchester United', 'Accrington Stanley', 'Campionii FC Arges',\n",
              "       'Ross County FC', 'Kilmarnock', 'SV Elversberg', 'Hebei FC',\n",
              "       'Sandefjord Fotball', 'Bradford City', 'Bohemian FC',\n",
              "       'Warta Poznań', 'Kristiansund BK', 'SV Meppen',\n",
              "       'SC Rheindorf Altach', 'VfB Oldenburg', 'PGE FKS Stal Mielec',\n",
              "       'Salford City', 'Helsingborgs IF', 'Tromsø IL',\n",
              "       'SK Austria Klagenfurt', 'SC East Bengal FC',\n",
              "       'Forest Green Rovers', 'IK Sirius', 'FK Haugesund',\n",
              "       'Cambridge United', 'AFC Hermannstadt', 'Port Vale',\n",
              "       'General Caballero (JLM)', 'IFK Värnamo', 'FC Winterthur',\n",
              "       'SC Freiburg II', 'Livingston FC', 'Lincoln City', 'Mjällby AIF',\n",
              "       'Tranmere Rovers', 'Burton Albion', 'SV Wehen Wiesbaden',\n",
              "       'Borussia Dortmund II', 'Derry City', 'Leyton Orient',\n",
              "       'AFC Wimbledon', 'Degerfors IF', 'Northampton Town',\n",
              "       'Korona Kielce', \"St. Patrick's Athletic\", 'Mansfield Town',\n",
              "       'Swindon Town', 'Dundalk FC', 'Hamarkameratene', 'Harrogate Town',\n",
              "       'Doncaster Rovers', 'Hartlepool United', 'Crawley Town',\n",
              "       'Bristol Rovers', 'Sligo Rovers', 'Sportclub Verl',\n",
              "       'Stockport County', 'Varbergs BoIS FC', 'NorthEast United FC',\n",
              "       'Gillingham', 'CS Mioveni', 'Stevenage', 'Crewe Alexandra',\n",
              "       'Newport County', 'Rochdale', 'Carlisle United', 'SpVgg Bayreuth',\n",
              "       'FK Jerv', 'Walsall', 'Grimsby Town', 'Sutton United', 'Barrow',\n",
              "       'Finn Harps', 'Drogheda United', 'Shelbourne FC', 'UCD AFC'],\n",
              "      dtype=object)"
            ]
          },
          "metadata": {},
          "execution_count": 89
        }
      ]
    },
    {
      "cell_type": "code",
      "source": [
        "clubs = ['FC Barcelona','Real Madrid','Juventus','Liverpool','Manchester United',\n",
        "         'Chelsea','Arsenal','Paris Saint-Germain' ,'FC Bayern München','Manchester']"
      ],
      "metadata": {
        "id": "STvRHTT_kyoO"
      },
      "execution_count": 90,
      "outputs": []
    },
    {
      "cell_type": "code",
      "source": [
        "df_club_age = df.loc[df['Club Name'].isin(clubs) & df['Age']]\n",
        "plt.figure(1 , figsize = (12,6))\n",
        "sns.boxplot(x = 'Club Name', y = 'Age' , data = df_club_age, palette='spring')\n",
        "plt.title('Age Distribution in famous clubs')\n",
        "plt.xticks(rotation = 50)\n",
        "plt.show()"
      ],
      "metadata": {
        "colab": {
          "base_uri": "https://localhost:8080/",
          "height": 481
        },
        "id": "bqBcgiNLk_6L",
        "outputId": "4906db95-bd57-426b-a5e6-2da4d33e16ba"
      },
      "execution_count": 93,
      "outputs": [
        {
          "output_type": "display_data",
          "data": {
            "text/plain": [
              "<Figure size 864x432 with 1 Axes>"
            ],
            "image/png": "[encoded data removed]"
          },
          "metadata": {}
        }
      ]
    },
    {
      "cell_type": "markdown",
      "source": [
        "So, Juventus has the eldest set of players and Real Madrid and Liverpool has youngest set of players"
      ],
      "metadata": {
        "id": "isTmeiyXlOGv"
      }
    },
    {
      "cell_type": "markdown",
      "source": [
        "**Overall Rating in famous clubs**"
      ],
      "metadata": {
        "id": "1d8s4sVilQKe"
      }
    },
    {
      "cell_type": "code",
      "source": [
        "df_club_rating = df.loc[df['Club Name'].isin(clubs) & df['Overall']]\n",
        "plt.figure(1 , figsize = (12,6))\n",
        "sns.boxplot(x = 'Club Name' , y = 'Overall' , data = df_club_rating, palette='PuBuGn_d')\n",
        "plt.title('Overall Rating Distribution in famous clubs')\n",
        "plt.xticks(rotation = 50)\n",
        "plt.show()"
      ],
      "metadata": {
        "colab": {
          "base_uri": "https://localhost:8080/",
          "height": 481
        },
        "id": "RuoDurNolBA6",
        "outputId": "eac4b815-5052-4794-c29a-a0f532cb9ecb"
      },
      "execution_count": 95,
      "outputs": [
        {
          "output_type": "display_data",
          "data": {
            "text/plain": [
              "<Figure size 864x432 with 1 Axes>"
            ],
            "image/png": "[encoded data removed]"
          },
          "metadata": {}
        }
      ]
    },
    {
      "cell_type": "markdown",
      "source": [
        "So, Juventus has the best rating of the players."
      ],
      "metadata": {
        "id": "gNvsqEAolZhe"
      }
    },
    {
      "cell_type": "markdown",
      "source": [
        "**Profiling top players**\n",
        "\n",
        "The Best Players\n",
        "Q. Who are the 10 best players?\n",
        "\n",
        "A. The 10 best players are-"
      ],
      "metadata": {
        "id": "2x1pZLsQlcmv"
      }
    },
    {
      "cell_type": "code",
      "source": [
        "df_best_players = pd.DataFrame.copy(df.sort_values(by ='Overall',ascending = False ).head(10))\n",
        "plt.figure(1,figsize = (12,6))\n",
        "sns.barplot(x ='Known As' , y = 'Overall' , data = df_best_players, palette='PuBuGn_d')\n",
        "plt.ylim(85,95)\n",
        "plt.show()"
      ],
      "metadata": {
        "colab": {
          "base_uri": "https://localhost:8080/",
          "height": 392
        },
        "id": "LTByiGq4lUFU",
        "outputId": "2d0b09b0-9cfe-46cd-d8d8-ab6ab655eaa8"
      },
      "execution_count": 100,
      "outputs": [
        {
          "output_type": "display_data",
          "data": {
            "text/plain": [
              "<Figure size 864x432 with 1 Axes>"
            ],
            "image/png": "[encoded data removed]"
          },
          "metadata": {}
        }
      ]
    },
    {
      "cell_type": "markdown",
      "source": [
        "# **Data Analysis**"
      ],
      "metadata": {
        "id": "jYJK0cdCmE4V"
      }
    },
    {
      "cell_type": "markdown",
      "source": [
        "**The Eldest Players**"
      ],
      "metadata": {
        "id": "helnZcUomuAI"
      }
    },
    {
      "cell_type": "code",
      "source": [
        "\n",
        "df.sort_values(by = 'Age' , ascending = False)[['Known As','Club Name','Nationality','Overall', 'Age' ]].head()"
      ],
      "metadata": {
        "colab": {
          "base_uri": "https://localhost:8080/",
          "height": 206
        },
        "id": "DlBzHGdyl9ho",
        "outputId": "3bfd06f2-e963-467b-9b8c-e20e48c9233d"
      },
      "execution_count": 106,
      "outputs": [
        {
          "output_type": "execute_result",
          "data": {
            "text/plain": [
              "          Known As               Club Name             Nationality  Overall  \\\n",
              "592      G. Buffon                   Parma                   Italy       79   \n",
              "13548     S. Lukić        Varbergs BoIS FC  Bosnia and Herzegovina       62   \n",
              "3276    S. Torrico  San Lorenzo de Almagro               Argentina       72   \n",
              "15525  J. Szmatuła           Piast Gliwice                  Poland       59   \n",
              "10851    M. Galezo     Hermanos Colmenarez               Venezuela       64   \n",
              "\n",
              "       Age  \n",
              "592     44  \n",
              "13548   42  \n",
              "3276    42  \n",
              "15525   41  \n",
              "10851   41  "
            ],
            "text/html": [
              "\n",
              "  <div id=\"df-9dc1b13f-ad4a-4db9-bb94-0b5062da61a3\">\n",
              "    <div class=\"colab-df-container\">\n",
              "      <div>\n",
              "<style scoped>\n",
              "    .dataframe tbody tr th:only-of-type {\n",
              "        vertical-align: middle;\n",
              "    }\n",
              "\n",
              "    .dataframe tbody tr th {\n",
              "        vertical-align: top;\n",
              "    }\n",
              "\n",
              "    .dataframe thead th {\n",
              "        text-align: right;\n",
              "    }\n",
              "</style>\n",
              "<table border=\"1\" class=\"dataframe\">\n",
              "  <thead>\n",
              "    <tr style=\"text-align: right;\">\n",
              "      <th></th>\n",
              "      <th>Known As</th>\n",
              "      <th>Club Name</th>\n",
              "      <th>Nationality</th>\n",
              "      <th>Overall</th>\n",
              "      <th>Age</th>\n",
              "    </tr>\n",
              "  </thead>\n",
              "  <tbody>\n",
              "    <tr>\n",
              "      <th>592</th>\n",
              "      <td>G. Buffon</td>\n",
              "      <td>Parma</td>\n",
              "      <td>Italy</td>\n",
              "      <td>79</td>\n",
              "      <td>44</td>\n",
              "    </tr>\n",
              "    <tr>\n",
              "      <th>13548</th>\n",
              "      <td>S. Lukić</td>\n",
              "      <td>Varbergs BoIS FC</td>\n",
              "      <td>Bosnia and Herzegovina</td>\n",
              "      <td>62</td>\n",
              "      <td>42</td>\n",
              "    </tr>\n",
              "    <tr>\n",
              "      <th>3276</th>\n",
              "      <td>S. Torrico</td>\n",
              "      <td>San Lorenzo de Almagro</td>\n",
              "      <td>Argentina</td>\n",
              "      <td>72</td>\n",
              "      <td>42</td>\n",
              "    </tr>\n",
              "    <tr>\n",
              "      <th>15525</th>\n",
              "      <td>J. Szmatuła</td>\n",
              "      <td>Piast Gliwice</td>\n",
              "      <td>Poland</td>\n",
              "      <td>59</td>\n",
              "      <td>41</td>\n",
              "    </tr>\n",
              "    <tr>\n",
              "      <th>10851</th>\n",
              "      <td>M. Galezo</td>\n",
              "      <td>Hermanos Colmenarez</td>\n",
              "      <td>Venezuela</td>\n",
              "      <td>64</td>\n",
              "      <td>41</td>\n",
              "    </tr>\n",
              "  </tbody>\n",
              "</table>\n",
              "</div>\n",
              "      <button class=\"colab-df-convert\" onclick=\"convertToInteractive('df-9dc1b13f-ad4a-4db9-bb94-0b5062da61a3')\"\n",
              "              title=\"Convert this dataframe to an interactive table.\"\n",
              "              style=\"display:none;\">\n",
              "        \n",
              "  <svg xmlns=\"http://www.w3.org/2000/svg\" height=\"24px\"viewBox=\"0 0 24 24\"\n",
              "       width=\"24px\">\n",
              "    <path d=\"M0 0h24v24H0V0z\" fill=\"none\"/>\n",
              "    <path d=\"M18.56 5.44l.94 2.06.94-2.06 2.06-.94-2.06-.94-.94-2.06-.94 2.06-2.06.94zm-11 1L8.5 8.5l.94-2.06 2.06-.94-2.06-.94L8.5 2.5l-.94 2.06-2.06.94zm10 10l.94 2.06.94-2.06 2.06-.94-2.06-.94-.94-2.06-.94 2.06-2.06.94z\"/><path d=\"M17.41 7.96l-1.37-1.37c-.4-.4-.92-.59-1.43-.59-.52 0-1.04.2-1.43.59L10.3 9.45l-7.72 7.72c-.78.78-.78 2.05 0 2.83L4 21.41c.39.39.9.59 1.41.59.51 0 1.02-.2 1.41-.59l7.78-7.78 2.81-2.81c.8-.78.8-2.07 0-2.86zM5.41 20L4 18.59l7.72-7.72 1.47 1.35L5.41 20z\"/>\n",
              "  </svg>\n",
              "      </button>\n",
              "      \n",
              "  <style>\n",
              "    .colab-df-container {\n",
              "      display:flex;\n",
              "      flex-wrap:wrap;\n",
              "      gap: 12px;\n",
              "    }\n",
              "\n",
              "    .colab-df-convert {\n",
              "      background-color: #E8F0FE;\n",
              "      border: none;\n",
              "      border-radius: 50%;\n",
              "      cursor: pointer;\n",
              "      display: none;\n",
              "      fill: #1967D2;\n",
              "      height: 32px;\n",
              "      padding: 0 0 0 0;\n",
              "      width: 32px;\n",
              "    }\n",
              "\n",
              "    .colab-df-convert:hover {\n",
              "      background-color: #E2EBFA;\n",
              "      box-shadow: 0px 1px 2px rgba(60, 64, 67, 0.3), 0px 1px 3px 1px rgba(60, 64, 67, 0.15);\n",
              "      fill: #174EA6;\n",
              "    }\n",
              "\n",
              "    [theme=dark] .colab-df-convert {\n",
              "      background-color: #3B4455;\n",
              "      fill: #D2E3FC;\n",
              "    }\n",
              "\n",
              "    [theme=dark] .colab-df-convert:hover {\n",
              "      background-color: #434B5C;\n",
              "      box-shadow: 0px 1px 3px 1px rgba(0, 0, 0, 0.15);\n",
              "      filter: drop-shadow(0px 1px 2px rgba(0, 0, 0, 0.3));\n",
              "      fill: #FFFFFF;\n",
              "    }\n",
              "  </style>\n",
              "\n",
              "      <script>\n",
              "        const buttonEl =\n",
              "          document.querySelector('#df-9dc1b13f-ad4a-4db9-bb94-0b5062da61a3 button.colab-df-convert');\n",
              "        buttonEl.style.display =\n",
              "          google.colab.kernel.accessAllowed ? 'block' : 'none';\n",
              "\n",
              "        async function convertToInteractive(key) {\n",
              "          const element = document.querySelector('#df-9dc1b13f-ad4a-4db9-bb94-0b5062da61a3');\n",
              "          const dataTable =\n",
              "            await google.colab.kernel.invokeFunction('convertToInteractive',\n",
              "                                                     [key], {});\n",
              "          if (!dataTable) return;\n",
              "\n",
              "          const docLinkHtml = 'Like what you see? Visit the ' +\n",
              "            '<a target=\"_blank\" href=https://colab.research.google.com/notebooks/data_table.ipynb>data table notebook</a>'\n",
              "            + ' to learn more about interactive tables.';\n",
              "          element.innerHTML = '';\n",
              "          dataTable['output_type'] = 'display_data';\n",
              "          await google.colab.output.renderOutput(dataTable, element);\n",
              "          const docLink = document.createElement('div');\n",
              "          docLink.innerHTML = docLinkHtml;\n",
              "          element.appendChild(docLink);\n",
              "        }\n",
              "      </script>\n",
              "    </div>\n",
              "  </div>\n",
              "  "
            ]
          },
          "metadata": {},
          "execution_count": 106
        }
      ]
    },
    {
      "cell_type": "markdown",
      "source": [
        "**The Youngest Players**"
      ],
      "metadata": {
        "id": "OP-y1kONnITJ"
      }
    },
    {
      "cell_type": "code",
      "source": [
        "df.sort_values(by = 'Age' , ascending = True)[['Known As','Club Name','Nationality','Overall', 'Age' ]].head()"
      ],
      "metadata": {
        "colab": {
          "base_uri": "https://localhost:8080/",
          "height": 206
        },
        "id": "22_9GMx2m2Do",
        "outputId": "dcae7b36-d24f-4051-8c80-71019fef6514"
      },
      "execution_count": 108,
      "outputs": [
        {
          "output_type": "execute_result",
          "data": {
            "text/plain": [
              "            Known As              Club Name    Nationality  Overall  Age\n",
              "17956     A. Dithmer         F.C. København        Denmark       53   16\n",
              "18014      J. Ardila  Estudiantes de Mérida      Venezuela       53   16\n",
              "16084       S. Ngoma     New York Red Bulls  United States       58   16\n",
              "11481      O. Vargas    Seattle Sounders FC  United States       64   16\n",
              "17591  A. Madaliński          Miedź Legnica         Poland       54   16"
            ],
            "text/html": [
              "\n",
              "  <div id=\"df-4b4bc5ce-fb15-4333-ac34-d0c41286bb3e\">\n",
              "    <div class=\"colab-df-container\">\n",
              "      <div>\n",
              "<style scoped>\n",
              "    .dataframe tbody tr th:only-of-type {\n",
              "        vertical-align: middle;\n",
              "    }\n",
              "\n",
              "    .dataframe tbody tr th {\n",
              "        vertical-align: top;\n",
              "    }\n",
              "\n",
              "    .dataframe thead th {\n",
              "        text-align: right;\n",
              "    }\n",
              "</style>\n",
              "<table border=\"1\" class=\"dataframe\">\n",
              "  <thead>\n",
              "    <tr style=\"text-align: right;\">\n",
              "      <th></th>\n",
              "      <th>Known As</th>\n",
              "      <th>Club Name</th>\n",
              "      <th>Nationality</th>\n",
              "      <th>Overall</th>\n",
              "      <th>Age</th>\n",
              "    </tr>\n",
              "  </thead>\n",
              "  <tbody>\n",
              "    <tr>\n",
              "      <th>17956</th>\n",
              "      <td>A. Dithmer</td>\n",
              "      <td>F.C. København</td>\n",
              "      <td>Denmark</td>\n",
              "      <td>53</td>\n",
              "      <td>16</td>\n",
              "    </tr>\n",
              "    <tr>\n",
              "      <th>18014</th>\n",
              "      <td>J. Ardila</td>\n",
              "      <td>Estudiantes de Mérida</td>\n",
              "      <td>Venezuela</td>\n",
              "      <td>53</td>\n",
              "      <td>16</td>\n",
              "    </tr>\n",
              "    <tr>\n",
              "      <th>16084</th>\n",
              "      <td>S. Ngoma</td>\n",
              "      <td>New York Red Bulls</td>\n",
              "      <td>United States</td>\n",
              "      <td>58</td>\n",
              "      <td>16</td>\n",
              "    </tr>\n",
              "    <tr>\n",
              "      <th>11481</th>\n",
              "      <td>O. Vargas</td>\n",
              "      <td>Seattle Sounders FC</td>\n",
              "      <td>United States</td>\n",
              "      <td>64</td>\n",
              "      <td>16</td>\n",
              "    </tr>\n",
              "    <tr>\n",
              "      <th>17591</th>\n",
              "      <td>A. Madaliński</td>\n",
              "      <td>Miedź Legnica</td>\n",
              "      <td>Poland</td>\n",
              "      <td>54</td>\n",
              "      <td>16</td>\n",
              "    </tr>\n",
              "  </tbody>\n",
              "</table>\n",
              "</div>\n",
              "      <button class=\"colab-df-convert\" onclick=\"convertToInteractive('df-4b4bc5ce-fb15-4333-ac34-d0c41286bb3e')\"\n",
              "              title=\"Convert this dataframe to an interactive table.\"\n",
              "              style=\"display:none;\">\n",
              "        \n",
              "  <svg xmlns=\"http://www.w3.org/2000/svg\" height=\"24px\"viewBox=\"0 0 24 24\"\n",
              "       width=\"24px\">\n",
              "    <path d=\"M0 0h24v24H0V0z\" fill=\"none\"/>\n",
              "    <path d=\"M18.56 5.44l.94 2.06.94-2.06 2.06-.94-2.06-.94-.94-2.06-.94 2.06-2.06.94zm-11 1L8.5 8.5l.94-2.06 2.06-.94-2.06-.94L8.5 2.5l-.94 2.06-2.06.94zm10 10l.94 2.06.94-2.06 2.06-.94-2.06-.94-.94-2.06-.94 2.06-2.06.94z\"/><path d=\"M17.41 7.96l-1.37-1.37c-.4-.4-.92-.59-1.43-.59-.52 0-1.04.2-1.43.59L10.3 9.45l-7.72 7.72c-.78.78-.78 2.05 0 2.83L4 21.41c.39.39.9.59 1.41.59.51 0 1.02-.2 1.41-.59l7.78-7.78 2.81-2.81c.8-.78.8-2.07 0-2.86zM5.41 20L4 18.59l7.72-7.72 1.47 1.35L5.41 20z\"/>\n",
              "  </svg>\n",
              "      </button>\n",
              "      \n",
              "  <style>\n",
              "    .colab-df-container {\n",
              "      display:flex;\n",
              "      flex-wrap:wrap;\n",
              "      gap: 12px;\n",
              "    }\n",
              "\n",
              "    .colab-df-convert {\n",
              "      background-color: #E8F0FE;\n",
              "      border: none;\n",
              "      border-radius: 50%;\n",
              "      cursor: pointer;\n",
              "      display: none;\n",
              "      fill: #1967D2;\n",
              "      height: 32px;\n",
              "      padding: 0 0 0 0;\n",
              "      width: 32px;\n",
              "    }\n",
              "\n",
              "    .colab-df-convert:hover {\n",
              "      background-color: #E2EBFA;\n",
              "      box-shadow: 0px 1px 2px rgba(60, 64, 67, 0.3), 0px 1px 3px 1px rgba(60, 64, 67, 0.15);\n",
              "      fill: #174EA6;\n",
              "    }\n",
              "\n",
              "    [theme=dark] .colab-df-convert {\n",
              "      background-color: #3B4455;\n",
              "      fill: #D2E3FC;\n",
              "    }\n",
              "\n",
              "    [theme=dark] .colab-df-convert:hover {\n",
              "      background-color: #434B5C;\n",
              "      box-shadow: 0px 1px 3px 1px rgba(0, 0, 0, 0.15);\n",
              "      filter: drop-shadow(0px 1px 2px rgba(0, 0, 0, 0.3));\n",
              "      fill: #FFFFFF;\n",
              "    }\n",
              "  </style>\n",
              "\n",
              "      <script>\n",
              "        const buttonEl =\n",
              "          document.querySelector('#df-4b4bc5ce-fb15-4333-ac34-d0c41286bb3e button.colab-df-convert');\n",
              "        buttonEl.style.display =\n",
              "          google.colab.kernel.accessAllowed ? 'block' : 'none';\n",
              "\n",
              "        async function convertToInteractive(key) {\n",
              "          const element = document.querySelector('#df-4b4bc5ce-fb15-4333-ac34-d0c41286bb3e');\n",
              "          const dataTable =\n",
              "            await google.colab.kernel.invokeFunction('convertToInteractive',\n",
              "                                                     [key], {});\n",
              "          if (!dataTable) return;\n",
              "\n",
              "          const docLinkHtml = 'Like what you see? Visit the ' +\n",
              "            '<a target=\"_blank\" href=https://colab.research.google.com/notebooks/data_table.ipynb>data table notebook</a>'\n",
              "            + ' to learn more about interactive tables.';\n",
              "          element.innerHTML = '';\n",
              "          dataTable['output_type'] = 'display_data';\n",
              "          await google.colab.output.renderOutput(dataTable, element);\n",
              "          const docLink = document.createElement('div');\n",
              "          docLink.innerHTML = docLinkHtml;\n",
              "          element.appendChild(docLink);\n",
              "        }\n",
              "      </script>\n",
              "    </div>\n",
              "  </div>\n",
              "  "
            ]
          },
          "metadata": {},
          "execution_count": 108
        }
      ]
    },
    {
      "cell_type": "markdown",
      "source": [
        "**The Best Freekick Takers**"
      ],
      "metadata": {
        "id": "uw4ulxn_nNWc"
      }
    },
    {
      "cell_type": "code",
      "source": [
        "df.sort_values(by = 'Freekick Accuracy' , ascending = False)[['Known As','Club Name','Nationality','Age','Freekick Accuracy']].head()"
      ],
      "metadata": {
        "colab": {
          "base_uri": "https://localhost:8080/",
          "height": 206
        },
        "id": "1mA9iAGsnBYd",
        "outputId": "76d1e32b-31f7-4242-87a0-3d743acca3d1"
      },
      "execution_count": 112,
      "outputs": [
        {
          "output_type": "execute_result",
          "data": {
            "text/plain": [
              "           Known As            Club Name Nationality  Age  Freekick Accuracy\n",
              "345  J. Ward-Prowse          Southampton     England   27                 94\n",
              "0          L. Messi  Paris Saint-Germain   Argentina   35                 93\n",
              "127        J. Tartt         AFC Richmond     England   24                 90\n",
              "54           Parejo        Villarreal CF       Spain   33                 90\n",
              "649    L. Zelarayán        Columbus Crew     Armenia   30                 89"
            ],
            "text/html": [
              "\n",
              "  <div id=\"df-1b6e14c5-9469-446c-ac28-9d60a9ff0458\">\n",
              "    <div class=\"colab-df-container\">\n",
              "      <div>\n",
              "<style scoped>\n",
              "    .dataframe tbody tr th:only-of-type {\n",
              "        vertical-align: middle;\n",
              "    }\n",
              "\n",
              "    .dataframe tbody tr th {\n",
              "        vertical-align: top;\n",
              "    }\n",
              "\n",
              "    .dataframe thead th {\n",
              "        text-align: right;\n",
              "    }\n",
              "</style>\n",
              "<table border=\"1\" class=\"dataframe\">\n",
              "  <thead>\n",
              "    <tr style=\"text-align: right;\">\n",
              "      <th></th>\n",
              "      <th>Known As</th>\n",
              "      <th>Club Name</th>\n",
              "      <th>Nationality</th>\n",
              "      <th>Age</th>\n",
              "      <th>Freekick Accuracy</th>\n",
              "    </tr>\n",
              "  </thead>\n",
              "  <tbody>\n",
              "    <tr>\n",
              "      <th>345</th>\n",
              "      <td>J. Ward-Prowse</td>\n",
              "      <td>Southampton</td>\n",
              "      <td>England</td>\n",
              "      <td>27</td>\n",
              "      <td>94</td>\n",
              "    </tr>\n",
              "    <tr>\n",
              "      <th>0</th>\n",
              "      <td>L. Messi</td>\n",
              "      <td>Paris Saint-Germain</td>\n",
              "      <td>Argentina</td>\n",
              "      <td>35</td>\n",
              "      <td>93</td>\n",
              "    </tr>\n",
              "    <tr>\n",
              "      <th>127</th>\n",
              "      <td>J. Tartt</td>\n",
              "      <td>AFC Richmond</td>\n",
              "      <td>England</td>\n",
              "      <td>24</td>\n",
              "      <td>90</td>\n",
              "    </tr>\n",
              "    <tr>\n",
              "      <th>54</th>\n",
              "      <td>Parejo</td>\n",
              "      <td>Villarreal CF</td>\n",
              "      <td>Spain</td>\n",
              "      <td>33</td>\n",
              "      <td>90</td>\n",
              "    </tr>\n",
              "    <tr>\n",
              "      <th>649</th>\n",
              "      <td>L. Zelarayán</td>\n",
              "      <td>Columbus Crew</td>\n",
              "      <td>Armenia</td>\n",
              "      <td>30</td>\n",
              "      <td>89</td>\n",
              "    </tr>\n",
              "  </tbody>\n",
              "</table>\n",
              "</div>\n",
              "      <button class=\"colab-df-convert\" onclick=\"convertToInteractive('df-1b6e14c5-9469-446c-ac28-9d60a9ff0458')\"\n",
              "              title=\"Convert this dataframe to an interactive table.\"\n",
              "              style=\"display:none;\">\n",
              "        \n",
              "  <svg xmlns=\"http://www.w3.org/2000/svg\" height=\"24px\"viewBox=\"0 0 24 24\"\n",
              "       width=\"24px\">\n",
              "    <path d=\"M0 0h24v24H0V0z\" fill=\"none\"/>\n",
              "    <path d=\"M18.56 5.44l.94 2.06.94-2.06 2.06-.94-2.06-.94-.94-2.06-.94 2.06-2.06.94zm-11 1L8.5 8.5l.94-2.06 2.06-.94-2.06-.94L8.5 2.5l-.94 2.06-2.06.94zm10 10l.94 2.06.94-2.06 2.06-.94-2.06-.94-.94-2.06-.94 2.06-2.06.94z\"/><path d=\"M17.41 7.96l-1.37-1.37c-.4-.4-.92-.59-1.43-.59-.52 0-1.04.2-1.43.59L10.3 9.45l-7.72 7.72c-.78.78-.78 2.05 0 2.83L4 21.41c.39.39.9.59 1.41.59.51 0 1.02-.2 1.41-.59l7.78-7.78 2.81-2.81c.8-.78.8-2.07 0-2.86zM5.41 20L4 18.59l7.72-7.72 1.47 1.35L5.41 20z\"/>\n",
              "  </svg>\n",
              "      </button>\n",
              "      \n",
              "  <style>\n",
              "    .colab-df-container {\n",
              "      display:flex;\n",
              "      flex-wrap:wrap;\n",
              "      gap: 12px;\n",
              "    }\n",
              "\n",
              "    .colab-df-convert {\n",
              "      background-color: #E8F0FE;\n",
              "      border: none;\n",
              "      border-radius: 50%;\n",
              "      cursor: pointer;\n",
              "      display: none;\n",
              "      fill: #1967D2;\n",
              "      height: 32px;\n",
              "      padding: 0 0 0 0;\n",
              "      width: 32px;\n",
              "    }\n",
              "\n",
              "    .colab-df-convert:hover {\n",
              "      background-color: #E2EBFA;\n",
              "      box-shadow: 0px 1px 2px rgba(60, 64, 67, 0.3), 0px 1px 3px 1px rgba(60, 64, 67, 0.15);\n",
              "      fill: #174EA6;\n",
              "    }\n",
              "\n",
              "    [theme=dark] .colab-df-convert {\n",
              "      background-color: #3B4455;\n",
              "      fill: #D2E3FC;\n",
              "    }\n",
              "\n",
              "    [theme=dark] .colab-df-convert:hover {\n",
              "      background-color: #434B5C;\n",
              "      box-shadow: 0px 1px 3px 1px rgba(0, 0, 0, 0.15);\n",
              "      filter: drop-shadow(0px 1px 2px rgba(0, 0, 0, 0.3));\n",
              "      fill: #FFFFFF;\n",
              "    }\n",
              "  </style>\n",
              "\n",
              "      <script>\n",
              "        const buttonEl =\n",
              "          document.querySelector('#df-1b6e14c5-9469-446c-ac28-9d60a9ff0458 button.colab-df-convert');\n",
              "        buttonEl.style.display =\n",
              "          google.colab.kernel.accessAllowed ? 'block' : 'none';\n",
              "\n",
              "        async function convertToInteractive(key) {\n",
              "          const element = document.querySelector('#df-1b6e14c5-9469-446c-ac28-9d60a9ff0458');\n",
              "          const dataTable =\n",
              "            await google.colab.kernel.invokeFunction('convertToInteractive',\n",
              "                                                     [key], {});\n",
              "          if (!dataTable) return;\n",
              "\n",
              "          const docLinkHtml = 'Like what you see? Visit the ' +\n",
              "            '<a target=\"_blank\" href=https://colab.research.google.com/notebooks/data_table.ipynb>data table notebook</a>'\n",
              "            + ' to learn more about interactive tables.';\n",
              "          element.innerHTML = '';\n",
              "          dataTable['output_type'] = 'display_data';\n",
              "          await google.colab.output.renderOutput(dataTable, element);\n",
              "          const docLink = document.createElement('div');\n",
              "          docLink.innerHTML = docLinkHtml;\n",
              "          element.appendChild(docLink);\n",
              "        }\n",
              "      </script>\n",
              "    </div>\n",
              "  </div>\n",
              "  "
            ]
          },
          "metadata": {},
          "execution_count": 112
        }
      ]
    },
    {
      "cell_type": "markdown",
      "source": [
        "**The Best Penalty Kick Taker**"
      ],
      "metadata": {
        "id": "mi3BzZ2An1JJ"
      }
    },
    {
      "cell_type": "code",
      "source": [
        "df.sort_values(by = 'Penalties' , ascending = False)[['Known As','Club Name','Nationality','Age']]"
      ],
      "metadata": {
        "colab": {
          "base_uri": "https://localhost:8080/",
          "height": 424
        },
        "id": "9RWcW5gwnXiM",
        "outputId": "95edeeec-ca42-443a-ea72-18f003c612e3"
      },
      "execution_count": 114,
      "outputs": [
        {
          "output_type": "execute_result",
          "data": {
            "text/plain": [
              "                Known As                Club Name Nationality  Age\n",
              "239           R. Jiménez  Wolverhampton Wanderers      Mexico   31\n",
              "10               H. Kane        Tottenham Hotspur     England   28\n",
              "968         M. Balotelli                  FC Sion       Italy   31\n",
              "11             Neymar Jr      Paris Saint-Germain      Brazil   30\n",
              "459             M. Kruse            VfL Wolfsburg     Germany   34\n",
              "...                  ...                      ...         ...  ...\n",
              "13433      M. Arzamendia             Club Olimpia    Paraguay   24\n",
              "17274           J. Walsh      Queens Park Rangers     England   20\n",
              "12037            B. Voll            Viktoria Köln     Germany   21\n",
              "12535  A. Maynard-Brewer               Gillingham   Australia   23\n",
              "18501      Deng Xiongtao            Meizhou Hakka    China PR   19\n",
              "\n",
              "[18539 rows x 4 columns]"
            ],
            "text/html": [
              "\n",
              "  <div id=\"df-5acf0dc8-c158-4c01-979d-7c9d9627db46\">\n",
              "    <div class=\"colab-df-container\">\n",
              "      <div>\n",
              "<style scoped>\n",
              "    .dataframe tbody tr th:only-of-type {\n",
              "        vertical-align: middle;\n",
              "    }\n",
              "\n",
              "    .dataframe tbody tr th {\n",
              "        vertical-align: top;\n",
              "    }\n",
              "\n",
              "    .dataframe thead th {\n",
              "        text-align: right;\n",
              "    }\n",
              "</style>\n",
              "<table border=\"1\" class=\"dataframe\">\n",
              "  <thead>\n",
              "    <tr style=\"text-align: right;\">\n",
              "      <th></th>\n",
              "      <th>Known As</th>\n",
              "      <th>Club Name</th>\n",
              "      <th>Nationality</th>\n",
              "      <th>Age</th>\n",
              "    </tr>\n",
              "  </thead>\n",
              "  <tbody>\n",
              "    <tr>\n",
              "      <th>239</th>\n",
              "      <td>R. Jiménez</td>\n",
              "      <td>Wolverhampton Wanderers</td>\n",
              "      <td>Mexico</td>\n",
              "      <td>31</td>\n",
              "    </tr>\n",
              "    <tr>\n",
              "      <th>10</th>\n",
              "      <td>H. Kane</td>\n",
              "      <td>Tottenham Hotspur</td>\n",
              "      <td>England</td>\n",
              "      <td>28</td>\n",
              "    </tr>\n",
              "    <tr>\n",
              "      <th>968</th>\n",
              "      <td>M. Balotelli</td>\n",
              "      <td>FC Sion</td>\n",
              "      <td>Italy</td>\n",
              "      <td>31</td>\n",
              "    </tr>\n",
              "    <tr>\n",
              "      <th>11</th>\n",
              "      <td>Neymar Jr</td>\n",
              "      <td>Paris Saint-Germain</td>\n",
              "      <td>Brazil</td>\n",
              "      <td>30</td>\n",
              "    </tr>\n",
              "    <tr>\n",
              "      <th>459</th>\n",
              "      <td>M. Kruse</td>\n",
              "      <td>VfL Wolfsburg</td>\n",
              "      <td>Germany</td>\n",
              "      <td>34</td>\n",
              "    </tr>\n",
              "    <tr>\n",
              "      <th>...</th>\n",
              "      <td>...</td>\n",
              "      <td>...</td>\n",
              "      <td>...</td>\n",
              "      <td>...</td>\n",
              "    </tr>\n",
              "    <tr>\n",
              "      <th>13433</th>\n",
              "      <td>M. Arzamendia</td>\n",
              "      <td>Club Olimpia</td>\n",
              "      <td>Paraguay</td>\n",
              "      <td>24</td>\n",
              "    </tr>\n",
              "    <tr>\n",
              "      <th>17274</th>\n",
              "      <td>J. Walsh</td>\n",
              "      <td>Queens Park Rangers</td>\n",
              "      <td>England</td>\n",
              "      <td>20</td>\n",
              "    </tr>\n",
              "    <tr>\n",
              "      <th>12037</th>\n",
              "      <td>B. Voll</td>\n",
              "      <td>Viktoria Köln</td>\n",
              "      <td>Germany</td>\n",
              "      <td>21</td>\n",
              "    </tr>\n",
              "    <tr>\n",
              "      <th>12535</th>\n",
              "      <td>A. Maynard-Brewer</td>\n",
              "      <td>Gillingham</td>\n",
              "      <td>Australia</td>\n",
              "      <td>23</td>\n",
              "    </tr>\n",
              "    <tr>\n",
              "      <th>18501</th>\n",
              "      <td>Deng Xiongtao</td>\n",
              "      <td>Meizhou Hakka</td>\n",
              "      <td>China PR</td>\n",
              "      <td>19</td>\n",
              "    </tr>\n",
              "  </tbody>\n",
              "</table>\n",
              "<p>18539 rows × 4 columns</p>\n",
              "</div>\n",
              "      <button class=\"colab-df-convert\" onclick=\"convertToInteractive('df-5acf0dc8-c158-4c01-979d-7c9d9627db46')\"\n",
              "              title=\"Convert this dataframe to an interactive table.\"\n",
              "              style=\"display:none;\">\n",
              "        \n",
              "  <svg xmlns=\"http://www.w3.org/2000/svg\" height=\"24px\"viewBox=\"0 0 24 24\"\n",
              "       width=\"24px\">\n",
              "    <path d=\"M0 0h24v24H0V0z\" fill=\"none\"/>\n",
              "    <path d=\"M18.56 5.44l.94 2.06.94-2.06 2.06-.94-2.06-.94-.94-2.06-.94 2.06-2.06.94zm-11 1L8.5 8.5l.94-2.06 2.06-.94-2.06-.94L8.5 2.5l-.94 2.06-2.06.94zm10 10l.94 2.06.94-2.06 2.06-.94-2.06-.94-.94-2.06-.94 2.06-2.06.94z\"/><path d=\"M17.41 7.96l-1.37-1.37c-.4-.4-.92-.59-1.43-.59-.52 0-1.04.2-1.43.59L10.3 9.45l-7.72 7.72c-.78.78-.78 2.05 0 2.83L4 21.41c.39.39.9.59 1.41.59.51 0 1.02-.2 1.41-.59l7.78-7.78 2.81-2.81c.8-.78.8-2.07 0-2.86zM5.41 20L4 18.59l7.72-7.72 1.47 1.35L5.41 20z\"/>\n",
              "  </svg>\n",
              "      </button>\n",
              "      \n",
              "  <style>\n",
              "    .colab-df-container {\n",
              "      display:flex;\n",
              "      flex-wrap:wrap;\n",
              "      gap: 12px;\n",
              "    }\n",
              "\n",
              "    .colab-df-convert {\n",
              "      background-color: #E8F0FE;\n",
              "      border: none;\n",
              "      border-radius: 50%;\n",
              "      cursor: pointer;\n",
              "      display: none;\n",
              "      fill: #1967D2;\n",
              "      height: 32px;\n",
              "      padding: 0 0 0 0;\n",
              "      width: 32px;\n",
              "    }\n",
              "\n",
              "    .colab-df-convert:hover {\n",
              "      background-color: #E2EBFA;\n",
              "      box-shadow: 0px 1px 2px rgba(60, 64, 67, 0.3), 0px 1px 3px 1px rgba(60, 64, 67, 0.15);\n",
              "      fill: #174EA6;\n",
              "    }\n",
              "\n",
              "    [theme=dark] .colab-df-convert {\n",
              "      background-color: #3B4455;\n",
              "      fill: #D2E3FC;\n",
              "    }\n",
              "\n",
              "    [theme=dark] .colab-df-convert:hover {\n",
              "      background-color: #434B5C;\n",
              "      box-shadow: 0px 1px 3px 1px rgba(0, 0, 0, 0.15);\n",
              "      filter: drop-shadow(0px 1px 2px rgba(0, 0, 0, 0.3));\n",
              "      fill: #FFFFFF;\n",
              "    }\n",
              "  </style>\n",
              "\n",
              "      <script>\n",
              "        const buttonEl =\n",
              "          document.querySelector('#df-5acf0dc8-c158-4c01-979d-7c9d9627db46 button.colab-df-convert');\n",
              "        buttonEl.style.display =\n",
              "          google.colab.kernel.accessAllowed ? 'block' : 'none';\n",
              "\n",
              "        async function convertToInteractive(key) {\n",
              "          const element = document.querySelector('#df-5acf0dc8-c158-4c01-979d-7c9d9627db46');\n",
              "          const dataTable =\n",
              "            await google.colab.kernel.invokeFunction('convertToInteractive',\n",
              "                                                     [key], {});\n",
              "          if (!dataTable) return;\n",
              "\n",
              "          const docLinkHtml = 'Like what you see? Visit the ' +\n",
              "            '<a target=\"_blank\" href=https://colab.research.google.com/notebooks/data_table.ipynb>data table notebook</a>'\n",
              "            + ' to learn more about interactive tables.';\n",
              "          element.innerHTML = '';\n",
              "          dataTable['output_type'] = 'display_data';\n",
              "          await google.colab.output.renderOutput(dataTable, element);\n",
              "          const docLink = document.createElement('div');\n",
              "          docLink.innerHTML = docLinkHtml;\n",
              "          element.appendChild(docLink);\n",
              "        }\n",
              "      </script>\n",
              "    </div>\n",
              "  </div>\n",
              "  "
            ]
          },
          "metadata": {},
          "execution_count": 114
        }
      ]
    },
    {
      "cell_type": "markdown",
      "source": [
        "**Fastest Players**\n"
      ],
      "metadata": {
        "id": "Hk68dOZaoRwo"
      }
    },
    {
      "cell_type": "code",
      "source": [
        "df.sort_values(by = 'Sprint Speed' , ascending = False)[['Known As','Club Name','Nationality','Overall', 'Age','Sprint Speed']].head()"
      ],
      "metadata": {
        "colab": {
          "base_uri": "https://localhost:8080/",
          "height": 206
        },
        "id": "0IdKjoESoDmS",
        "outputId": "09b69d39-5f42-486b-f573-91e139965af2"
      },
      "execution_count": 120,
      "outputs": [
        {
          "output_type": "execute_result",
          "data": {
            "text/plain": [
              "           Known As                Club Name  Nationality  Overall  Age  \\\n",
              "4         K. Mbappé      Paris Saint-Germain       France       91   23   \n",
              "1283   J. St. Juste              Sporting CP  Netherlands       76   25   \n",
              "651    Adama Traoré  Wolverhampton Wanderers        Spain       79   26   \n",
              "10327     S. Conteh          SC Paderborn 07      Germany       65   25   \n",
              "63     Vinícius Jr.           Real Madrid CF       Brazil       86   21   \n",
              "\n",
              "       Sprint Speed  \n",
              "4                97  \n",
              "1283             96  \n",
              "651              96  \n",
              "10327            96  \n",
              "63               95  "
            ],
            "text/html": [
              "\n",
              "  <div id=\"df-c6f923ee-9985-4033-bacc-1bb12089fbb5\">\n",
              "    <div class=\"colab-df-container\">\n",
              "      <div>\n",
              "<style scoped>\n",
              "    .dataframe tbody tr th:only-of-type {\n",
              "        vertical-align: middle;\n",
              "    }\n",
              "\n",
              "    .dataframe tbody tr th {\n",
              "        vertical-align: top;\n",
              "    }\n",
              "\n",
              "    .dataframe thead th {\n",
              "        text-align: right;\n",
              "    }\n",
              "</style>\n",
              "<table border=\"1\" class=\"dataframe\">\n",
              "  <thead>\n",
              "    <tr style=\"text-align: right;\">\n",
              "      <th></th>\n",
              "      <th>Known As</th>\n",
              "      <th>Club Name</th>\n",
              "      <th>Nationality</th>\n",
              "      <th>Overall</th>\n",
              "      <th>Age</th>\n",
              "      <th>Sprint Speed</th>\n",
              "    </tr>\n",
              "  </thead>\n",
              "  <tbody>\n",
              "    <tr>\n",
              "      <th>4</th>\n",
              "      <td>K. Mbappé</td>\n",
              "      <td>Paris Saint-Germain</td>\n",
              "      <td>France</td>\n",
              "      <td>91</td>\n",
              "      <td>23</td>\n",
              "      <td>97</td>\n",
              "    </tr>\n",
              "    <tr>\n",
              "      <th>1283</th>\n",
              "      <td>J. St. Juste</td>\n",
              "      <td>Sporting CP</td>\n",
              "      <td>Netherlands</td>\n",
              "      <td>76</td>\n",
              "      <td>25</td>\n",
              "      <td>96</td>\n",
              "    </tr>\n",
              "    <tr>\n",
              "      <th>651</th>\n",
              "      <td>Adama Traoré</td>\n",
              "      <td>Wolverhampton Wanderers</td>\n",
              "      <td>Spain</td>\n",
              "      <td>79</td>\n",
              "      <td>26</td>\n",
              "      <td>96</td>\n",
              "    </tr>\n",
              "    <tr>\n",
              "      <th>10327</th>\n",
              "      <td>S. Conteh</td>\n",
              "      <td>SC Paderborn 07</td>\n",
              "      <td>Germany</td>\n",
              "      <td>65</td>\n",
              "      <td>25</td>\n",
              "      <td>96</td>\n",
              "    </tr>\n",
              "    <tr>\n",
              "      <th>63</th>\n",
              "      <td>Vinícius Jr.</td>\n",
              "      <td>Real Madrid CF</td>\n",
              "      <td>Brazil</td>\n",
              "      <td>86</td>\n",
              "      <td>21</td>\n",
              "      <td>95</td>\n",
              "    </tr>\n",
              "  </tbody>\n",
              "</table>\n",
              "</div>\n",
              "      <button class=\"colab-df-convert\" onclick=\"convertToInteractive('df-c6f923ee-9985-4033-bacc-1bb12089fbb5')\"\n",
              "              title=\"Convert this dataframe to an interactive table.\"\n",
              "              style=\"display:none;\">\n",
              "        \n",
              "  <svg xmlns=\"http://www.w3.org/2000/svg\" height=\"24px\"viewBox=\"0 0 24 24\"\n",
              "       width=\"24px\">\n",
              "    <path d=\"M0 0h24v24H0V0z\" fill=\"none\"/>\n",
              "    <path d=\"M18.56 5.44l.94 2.06.94-2.06 2.06-.94-2.06-.94-.94-2.06-.94 2.06-2.06.94zm-11 1L8.5 8.5l.94-2.06 2.06-.94-2.06-.94L8.5 2.5l-.94 2.06-2.06.94zm10 10l.94 2.06.94-2.06 2.06-.94-2.06-.94-.94-2.06-.94 2.06-2.06.94z\"/><path d=\"M17.41 7.96l-1.37-1.37c-.4-.4-.92-.59-1.43-.59-.52 0-1.04.2-1.43.59L10.3 9.45l-7.72 7.72c-.78.78-.78 2.05 0 2.83L4 21.41c.39.39.9.59 1.41.59.51 0 1.02-.2 1.41-.59l7.78-7.78 2.81-2.81c.8-.78.8-2.07 0-2.86zM5.41 20L4 18.59l7.72-7.72 1.47 1.35L5.41 20z\"/>\n",
              "  </svg>\n",
              "      </button>\n",
              "      \n",
              "  <style>\n",
              "    .colab-df-container {\n",
              "      display:flex;\n",
              "      flex-wrap:wrap;\n",
              "      gap: 12px;\n",
              "    }\n",
              "\n",
              "    .colab-df-convert {\n",
              "      background-color: #E8F0FE;\n",
              "      border: none;\n",
              "      border-radius: 50%;\n",
              "      cursor: pointer;\n",
              "      display: none;\n",
              "      fill: #1967D2;\n",
              "      height: 32px;\n",
              "      padding: 0 0 0 0;\n",
              "      width: 32px;\n",
              "    }\n",
              "\n",
              "    .colab-df-convert:hover {\n",
              "      background-color: #E2EBFA;\n",
              "      box-shadow: 0px 1px 2px rgba(60, 64, 67, 0.3), 0px 1px 3px 1px rgba(60, 64, 67, 0.15);\n",
              "      fill: #174EA6;\n",
              "    }\n",
              "\n",
              "    [theme=dark] .colab-df-convert {\n",
              "      background-color: #3B4455;\n",
              "      fill: #D2E3FC;\n",
              "    }\n",
              "\n",
              "    [theme=dark] .colab-df-convert:hover {\n",
              "      background-color: #434B5C;\n",
              "      box-shadow: 0px 1px 3px 1px rgba(0, 0, 0, 0.15);\n",
              "      filter: drop-shadow(0px 1px 2px rgba(0, 0, 0, 0.3));\n",
              "      fill: #FFFFFF;\n",
              "    }\n",
              "  </style>\n",
              "\n",
              "      <script>\n",
              "        const buttonEl =\n",
              "          document.querySelector('#df-c6f923ee-9985-4033-bacc-1bb12089fbb5 button.colab-df-convert');\n",
              "        buttonEl.style.display =\n",
              "          google.colab.kernel.accessAllowed ? 'block' : 'none';\n",
              "\n",
              "        async function convertToInteractive(key) {\n",
              "          const element = document.querySelector('#df-c6f923ee-9985-4033-bacc-1bb12089fbb5');\n",
              "          const dataTable =\n",
              "            await google.colab.kernel.invokeFunction('convertToInteractive',\n",
              "                                                     [key], {});\n",
              "          if (!dataTable) return;\n",
              "\n",
              "          const docLinkHtml = 'Like what you see? Visit the ' +\n",
              "            '<a target=\"_blank\" href=https://colab.research.google.com/notebooks/data_table.ipynb>data table notebook</a>'\n",
              "            + ' to learn more about interactive tables.';\n",
              "          element.innerHTML = '';\n",
              "          dataTable['output_type'] = 'display_data';\n",
              "          await google.colab.output.renderOutput(dataTable, element);\n",
              "          const docLink = document.createElement('div');\n",
              "          docLink.innerHTML = docLinkHtml;\n",
              "          element.appendChild(docLink);\n",
              "        }\n",
              "      </script>\n",
              "    </div>\n",
              "  </div>\n",
              "  "
            ]
          },
          "metadata": {},
          "execution_count": 120
        }
      ]
    },
    {
      "cell_type": "markdown",
      "source": [
        "**The Best Finisher**\n"
      ],
      "metadata": {
        "id": "BTaij27koWoU"
      }
    },
    {
      "cell_type": "code",
      "source": [
        "df.sort_values(by = 'Finishing' , ascending = False)[['Known As','Club Name','Nationality','Overall', 'Age','Finishing']].head()"
      ],
      "metadata": {
        "colab": {
          "base_uri": "https://localhost:8080/",
          "height": 206
        },
        "id": "y4bNY_IHoXwr",
        "outputId": "bc3722e8-9a6d-41ed-8539-178163e8242d"
      },
      "execution_count": 115,
      "outputs": [
        {
          "output_type": "execute_result",
          "data": {
            "text/plain": [
              "             Known As            Club Name Nationality  Overall  Age  \\\n",
              "2      R. Lewandowski         FC Barcelona      Poland       91   33   \n",
              "21         E. Haaland      Manchester City      Norway       88   21   \n",
              "8   Cristiano Ronaldo    Manchester United    Portugal       90   37   \n",
              "4           K. Mbappé  Paris Saint-Germain      France       91   23   \n",
              "5            M. Salah            Liverpool       Egypt       90   30   \n",
              "\n",
              "    Finishing  \n",
              "2          94  \n",
              "21         94  \n",
              "8          93  \n",
              "4          93  \n",
              "5          93  "
            ],
            "text/html": [
              "\n",
              "  <div id=\"df-d6794871-3abe-4de8-a11b-1253018678b6\">\n",
              "    <div class=\"colab-df-container\">\n",
              "      <div>\n",
              "<style scoped>\n",
              "    .dataframe tbody tr th:only-of-type {\n",
              "        vertical-align: middle;\n",
              "    }\n",
              "\n",
              "    .dataframe tbody tr th {\n",
              "        vertical-align: top;\n",
              "    }\n",
              "\n",
              "    .dataframe thead th {\n",
              "        text-align: right;\n",
              "    }\n",
              "</style>\n",
              "<table border=\"1\" class=\"dataframe\">\n",
              "  <thead>\n",
              "    <tr style=\"text-align: right;\">\n",
              "      <th></th>\n",
              "      <th>Known As</th>\n",
              "      <th>Club Name</th>\n",
              "      <th>Nationality</th>\n",
              "      <th>Overall</th>\n",
              "      <th>Age</th>\n",
              "      <th>Finishing</th>\n",
              "    </tr>\n",
              "  </thead>\n",
              "  <tbody>\n",
              "    <tr>\n",
              "      <th>2</th>\n",
              "      <td>R. Lewandowski</td>\n",
              "      <td>FC Barcelona</td>\n",
              "      <td>Poland</td>\n",
              "      <td>91</td>\n",
              "      <td>33</td>\n",
              "      <td>94</td>\n",
              "    </tr>\n",
              "    <tr>\n",
              "      <th>21</th>\n",
              "      <td>E. Haaland</td>\n",
              "      <td>Manchester City</td>\n",
              "      <td>Norway</td>\n",
              "      <td>88</td>\n",
              "      <td>21</td>\n",
              "      <td>94</td>\n",
              "    </tr>\n",
              "    <tr>\n",
              "      <th>8</th>\n",
              "      <td>Cristiano Ronaldo</td>\n",
              "      <td>Manchester United</td>\n",
              "      <td>Portugal</td>\n",
              "      <td>90</td>\n",
              "      <td>37</td>\n",
              "      <td>93</td>\n",
              "    </tr>\n",
              "    <tr>\n",
              "      <th>4</th>\n",
              "      <td>K. Mbappé</td>\n",
              "      <td>Paris Saint-Germain</td>\n",
              "      <td>France</td>\n",
              "      <td>91</td>\n",
              "      <td>23</td>\n",
              "      <td>93</td>\n",
              "    </tr>\n",
              "    <tr>\n",
              "      <th>5</th>\n",
              "      <td>M. Salah</td>\n",
              "      <td>Liverpool</td>\n",
              "      <td>Egypt</td>\n",
              "      <td>90</td>\n",
              "      <td>30</td>\n",
              "      <td>93</td>\n",
              "    </tr>\n",
              "  </tbody>\n",
              "</table>\n",
              "</div>\n",
              "      <button class=\"colab-df-convert\" onclick=\"convertToInteractive('df-d6794871-3abe-4de8-a11b-1253018678b6')\"\n",
              "              title=\"Convert this dataframe to an interactive table.\"\n",
              "              style=\"display:none;\">\n",
              "        \n",
              "  <svg xmlns=\"http://www.w3.org/2000/svg\" height=\"24px\"viewBox=\"0 0 24 24\"\n",
              "       width=\"24px\">\n",
              "    <path d=\"M0 0h24v24H0V0z\" fill=\"none\"/>\n",
              "    <path d=\"M18.56 5.44l.94 2.06.94-2.06 2.06-.94-2.06-.94-.94-2.06-.94 2.06-2.06.94zm-11 1L8.5 8.5l.94-2.06 2.06-.94-2.06-.94L8.5 2.5l-.94 2.06-2.06.94zm10 10l.94 2.06.94-2.06 2.06-.94-2.06-.94-.94-2.06-.94 2.06-2.06.94z\"/><path d=\"M17.41 7.96l-1.37-1.37c-.4-.4-.92-.59-1.43-.59-.52 0-1.04.2-1.43.59L10.3 9.45l-7.72 7.72c-.78.78-.78 2.05 0 2.83L4 21.41c.39.39.9.59 1.41.59.51 0 1.02-.2 1.41-.59l7.78-7.78 2.81-2.81c.8-.78.8-2.07 0-2.86zM5.41 20L4 18.59l7.72-7.72 1.47 1.35L5.41 20z\"/>\n",
              "  </svg>\n",
              "      </button>\n",
              "      \n",
              "  <style>\n",
              "    .colab-df-container {\n",
              "      display:flex;\n",
              "      flex-wrap:wrap;\n",
              "      gap: 12px;\n",
              "    }\n",
              "\n",
              "    .colab-df-convert {\n",
              "      background-color: #E8F0FE;\n",
              "      border: none;\n",
              "      border-radius: 50%;\n",
              "      cursor: pointer;\n",
              "      display: none;\n",
              "      fill: #1967D2;\n",
              "      height: 32px;\n",
              "      padding: 0 0 0 0;\n",
              "      width: 32px;\n",
              "    }\n",
              "\n",
              "    .colab-df-convert:hover {\n",
              "      background-color: #E2EBFA;\n",
              "      box-shadow: 0px 1px 2px rgba(60, 64, 67, 0.3), 0px 1px 3px 1px rgba(60, 64, 67, 0.15);\n",
              "      fill: #174EA6;\n",
              "    }\n",
              "\n",
              "    [theme=dark] .colab-df-convert {\n",
              "      background-color: #3B4455;\n",
              "      fill: #D2E3FC;\n",
              "    }\n",
              "\n",
              "    [theme=dark] .colab-df-convert:hover {\n",
              "      background-color: #434B5C;\n",
              "      box-shadow: 0px 1px 3px 1px rgba(0, 0, 0, 0.15);\n",
              "      filter: drop-shadow(0px 1px 2px rgba(0, 0, 0, 0.3));\n",
              "      fill: #FFFFFF;\n",
              "    }\n",
              "  </style>\n",
              "\n",
              "      <script>\n",
              "        const buttonEl =\n",
              "          document.querySelector('#df-d6794871-3abe-4de8-a11b-1253018678b6 button.colab-df-convert');\n",
              "        buttonEl.style.display =\n",
              "          google.colab.kernel.accessAllowed ? 'block' : 'none';\n",
              "\n",
              "        async function convertToInteractive(key) {\n",
              "          const element = document.querySelector('#df-d6794871-3abe-4de8-a11b-1253018678b6');\n",
              "          const dataTable =\n",
              "            await google.colab.kernel.invokeFunction('convertToInteractive',\n",
              "                                                     [key], {});\n",
              "          if (!dataTable) return;\n",
              "\n",
              "          const docLinkHtml = 'Like what you see? Visit the ' +\n",
              "            '<a target=\"_blank\" href=https://colab.research.google.com/notebooks/data_table.ipynb>data table notebook</a>'\n",
              "            + ' to learn more about interactive tables.';\n",
              "          element.innerHTML = '';\n",
              "          dataTable['output_type'] = 'display_data';\n",
              "          await google.colab.output.renderOutput(dataTable, element);\n",
              "          const docLink = document.createElement('div');\n",
              "          docLink.innerHTML = docLinkHtml;\n",
              "          element.appendChild(docLink);\n",
              "        }\n",
              "      </script>\n",
              "    </div>\n",
              "  </div>\n",
              "  "
            ]
          },
          "metadata": {},
          "execution_count": 115
        }
      ]
    },
    {
      "cell_type": "code",
      "source": [],
      "metadata": {
        "id": "r3eMRzxKokMu"
      },
      "execution_count": null,
      "outputs": []
    }
  ]
}